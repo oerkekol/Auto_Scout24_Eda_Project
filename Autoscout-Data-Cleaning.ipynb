{
 "cells": [
  {
   "cell_type": "code",
   "execution_count": 1,
   "id": "a5a35f28",
   "metadata": {},
   "outputs": [],
   "source": [
    "import pandas as pd\n",
    "import numpy as np\n",
    "import seaborn as sns\n",
    "import matplotlib.pyplot as plt\n",
    "from skimpy import clean_columns\n",
    "import re\n",
    "from datetime import datetime"
   ]
  },
  {
   "cell_type": "code",
   "execution_count": 2,
   "id": "4a74fc53",
   "metadata": {},
   "outputs": [],
   "source": [
    "df0 = pd.read_json(\"as24_cars.json\")"
   ]
  },
  {
   "cell_type": "code",
   "execution_count": 3,
   "id": "4deb3a15",
   "metadata": {},
   "outputs": [
    {
     "data": {
      "text/html": [
       "<pre style=\"white-space:pre;overflow-x:auto;line-height:normal;font-family:Menlo,'DejaVu Sans Mono',consolas,'Courier New',monospace\"><span style=\"color: #008080; text-decoration-color: #008080; font-weight: bold\">50</span> column names have been cleaned\n",
       "</pre>\n"
      ],
      "text/plain": [
       "\u001b[1;36m50\u001b[0m column names have been cleaned\n"
      ]
     },
     "metadata": {},
     "output_type": "display_data"
    }
   ],
   "source": [
    "df0 = clean_columns(df0, case=\"snake\")"
   ]
  },
  {
   "cell_type": "code",
   "execution_count": 4,
   "id": "d8e7a598",
   "metadata": {},
   "outputs": [],
   "source": [
    "df = df0.copy()"
   ]
  },
  {
   "cell_type": "code",
   "execution_count": 5,
   "id": "f8eb025f",
   "metadata": {},
   "outputs": [
    {
     "name": "stdout",
     "output_type": "stream",
     "text": [
      "<class 'pandas.core.frame.DataFrame'>\n",
      "RangeIndex: 29480 entries, 0 to 29479\n",
      "Data columns (total 58 columns):\n",
      " #   Column                   Non-Null Count  Dtype  \n",
      "---  ------                   --------------  -----  \n",
      " 0   make_model               28630 non-null  object \n",
      " 1   short_description        28630 non-null  object \n",
      " 2   make                     28630 non-null  object \n",
      " 3   model                    28630 non-null  object \n",
      " 4   location                 28630 non-null  object \n",
      " 5   price                    28630 non-null  object \n",
      " 6   body_type                28630 non-null  object \n",
      " 7   type                     28630 non-null  object \n",
      " 8   doors                    28271 non-null  object \n",
      " 9   country_version          16889 non-null  object \n",
      " 10  offer_number             23100 non-null  object \n",
      " 11  warranty                 15784 non-null  object \n",
      " 12  mileage                  28629 non-null  object \n",
      " 13  first_registration       28628 non-null  object \n",
      " 14  gearbox                  28382 non-null  object \n",
      " 15  fuel_type                26843 non-null  object \n",
      " 16  colour                   26906 non-null  object \n",
      " 17  paint                    14495 non-null  object \n",
      " 18  desc                     28047 non-null  object \n",
      " 19  seller                   28630 non-null  object \n",
      " 20  seats                    25505 non-null  object \n",
      " 21  power                    28058 non-null  object \n",
      " 22  engine_size              27227 non-null  object \n",
      " 23  gears                    18954 non-null  object \n",
      " 24  co_emissions             18594 non-null  object \n",
      " 25  manufacturer_colour      21787 non-null  object \n",
      " 26  drivetrain               16893 non-null  object \n",
      " 27  cylinders                18852 non-null  object \n",
      " 28  fuel_consumption         23385 non-null  object \n",
      " 29  comfort_&_convenience    25433 non-null  object \n",
      " 30  entertainment_&_media    23644 non-null  object \n",
      " 31  safety_&_security        25415 non-null  object \n",
      " 32  extras                   23480 non-null  object \n",
      " 33  empty_weight             17758 non-null  object \n",
      " 34  model_code               8367 non-null   object \n",
      " 35  general_inspection       12254 non-null  object \n",
      " 36  last_service             2003 non-null   object \n",
      " 37  full_service_history     12565 non-null  object \n",
      " 38  non_smoker_vehicle       11594 non-null  object \n",
      " 39  emission_class           17859 non-null  object \n",
      " 40  emissions_sticker        9414 non-null   object \n",
      " 41  upholstery_colour        14569 non-null  object \n",
      " 42  upholstery               18610 non-null  object \n",
      " 43  production_date          5908 non-null   float64\n",
      " 44  previous_owner           14015 non-null  object \n",
      " 45  other_fuel_types         2313 non-null   object \n",
      " 46  power_consumption        515 non-null    object \n",
      " 47  energy_efficiency_class  7804 non-null   object \n",
      " 48  co_efficiency            7804 non-null   object \n",
      " 49  fuel_consumption_wltp    100 non-null    object \n",
      " 50  co_emissions_wltp        116 non-null    object \n",
      " 51  available_from           393 non-null    object \n",
      " 52  taxi_or_rental_car       422 non-null    object \n",
      " 53  availability             301 non-null    object \n",
      " 54  last_timing_belt_change  572 non-null    object \n",
      " 55  electric_range_wltp      16 non-null     object \n",
      " 56  power_consumption_wltp   16 non-null     object \n",
      " 57  battery_ownership        7 non-null      object \n",
      "dtypes: float64(1), object(57)\n",
      "memory usage: 13.0+ MB\n"
     ]
    }
   ],
   "source": [
    "df.info()"
   ]
  },
  {
   "cell_type": "markdown",
   "id": "115413e8",
   "metadata": {},
   "source": [
    "## <p style=\"background-color:#Green; font-family:newtimeroman; color:Orange; font-size:175%; text-align:left; border-radius:10px 10px;\">Data Summary</p>\n",
    "<a id=\"1\"></a>\n"
   ]
  },
  {
   "cell_type": "markdown",
   "id": "99753b2f",
   "metadata": {},
   "source": [
    "- **make_model**: Vehicle brand and model.\n",
    "- **short_description**: Brief description.\n",
    "- **make**: Vehicle brand.\n",
    "- **model**: Vehicle model.\n",
    "- **location**: Location of the vehicle.\n",
    "- **price**: Price.\n",
    "- **body_type**: Vehicle body type.\n",
    "- **type**: Vehicle type.\n",
    "- **doors**: Number of doors in the vehicle.\n",
    "- **country_version**: Country version of the vehicle.\n",
    "- **offer_number**: Offer number.\n",
    "- **warranty**: Warranty.\n",
    "- **mileage**: Vehicle mileage information.\n",
    "- **first_registration**: First registration date.\n",
    "- **gearbox**: Gearbox type.\n",
    "- **fuel_type**: Fuel type.\n",
    "- **colour**: Vehicle color.\n",
    "- **paint**: Paint type.\n",
    "- **desc**: Description.\n",
    "- **seller**: Seller.\n",
    "- **seats**: Number of seats in the vehicle.\n",
    "- **power**: Engine power.\n",
    "- **engine_size**: Engine size.\n",
    "- **gears**: Number of gears.\n",
    "- **co_emissions**:  CO₂ emissions.\n",
    "- **manufacturer_colour**: Manufacturer color.\n",
    "- **drivetrain**: Drivetrain type.\n",
    "- **cylinders**: Number of cylinders.\n",
    "- **fuel_consumption**: Fuel consumption.\n",
    "- **comfort_&_convenience**: Comfort and convenience features.\n",
    "- **entertainment_&_media**: Entertainment and media features.\n",
    "- **safety_&_security**: Safety and security features.\n",
    "- **extras**: Extra features.\n",
    "- **empty_weight**: Empty weight.\n",
    "- **model_code**: Model code.\n",
    "- **general_inspection**: General inspection.\n",
    "- **last_service**: Last service.\n",
    "- **full_service_history**: Full service history.\n",
    "- **non_smoker_vehicle**: Non-smoker vehicle.\n",
    "- **emission_class**: Emission class.\n",
    "- **emissions_sticker**: Emissions sticker.\n",
    "- **upholstery_colour**: Upholstery color.\n",
    "- **upholstery**: Upholstery.\n",
    "- **production_date**: Production date.\n",
    "- **previous_owner**: Previous owner.\n",
    "- **other_fuel_types**: Other fuel types.\n",
    "- **power_consumption**: Power consumption.\n",
    "- **energy_efficiency_class**: Energy efficiency class.\n",
    "- **co_efficiency**:  CO₂ efficiency.\n",
    "- **fuel_consumption_wltp**: WLTP fuel consumption.\n",
    "- **co_emissions_wltp**: WLTP  CO₂ emissions.\n",
    "- **available_from**: Available from.\n",
    "- **taxi_or_rental_car**: Taxi or rental car.\n",
    "- **availability**: Availability status.\n",
    "- **last_timing_belt_change**: Last timing belt change.\n",
    "- **electric_range_wltp**: WLTP electric range.\n",
    "- **power_consumption_wltp**: WLTP power consumption.\n",
    "- **battery_ownership**: Battery ownership."
   ]
  },
  {
   "cell_type": "code",
   "execution_count": 6,
   "id": "aa16ab0e",
   "metadata": {},
   "outputs": [
    {
     "data": {
      "text/plain": [
       "21600             Ford\n",
       "9574           Peugeot\n",
       "13080             SEAT\n",
       "874      Mercedes-Benz\n",
       "6648           Renault\n",
       "Name: make, dtype: object"
      ]
     },
     "execution_count": 6,
     "metadata": {},
     "output_type": "execute_result"
    }
   ],
   "source": [
    "# brand names are cleaned\n",
    "df.make = df.make.str.strip()\n",
    "df.make.sample(5)"
   ]
  },
  {
   "cell_type": "code",
   "execution_count": 7,
   "id": "73ef1963",
   "metadata": {},
   "outputs": [
    {
     "data": {
      "text/plain": [
       "0       A 160\n",
       "1     EQE 350\n",
       "2    A 45 AMG\n",
       "3    A 35 AMG\n",
       "4    A 45 AMG\n",
       "Name: model, dtype: object"
      ]
     },
     "execution_count": 7,
     "metadata": {},
     "output_type": "execute_result"
    }
   ],
   "source": [
    "# model name are cleaned from list\n",
    "df.model = df.model.transform(lambda x: x[0].split(\",\")[1].strip() if type(x) == list else x)\n",
    "df.model.head()"
   ]
  },
  {
   "cell_type": "code",
   "execution_count": 8,
   "id": "a413dab7",
   "metadata": {},
   "outputs": [
    {
     "data": {
      "text/plain": [
       "NaN           1126\n",
       "Megane         863\n",
       "Leon           787\n",
       "V40            740\n",
       "Sandero        730\n",
       "              ... \n",
       "GLA 35 AMG       1\n",
       "G 55 AMG         1\n",
       "Ariya            1\n",
       "105              1\n",
       "244              1\n",
       "Name: model, Length: 594, dtype: int64"
      ]
     },
     "execution_count": 8,
     "metadata": {},
     "output_type": "execute_result"
    }
   ],
   "source": [
    "# Model\n",
    "# \"\" values has been inserted and read as notnull.\n",
    "# \"\" values has been transformed as NaN\n",
    "df.loc[df[df[\"model\"] == \"\"].index, \"model\"] = np.nan\n",
    "df.model.value_counts(dropna = False)"
   ]
  },
  {
   "cell_type": "code",
   "execution_count": 9,
   "id": "42e86617",
   "metadata": {},
   "outputs": [],
   "source": [
    "# price amount format is cleaned\n",
    "df.price = df.price.str.replace(\"\\D\", \"\", regex=True).astype(\"float\")"
   ]
  },
  {
   "cell_type": "code",
   "execution_count": 10,
   "id": "e0df6cd7",
   "metadata": {},
   "outputs": [],
   "source": [
    "#body_type is cleaned\n",
    "df.body_type = df.body_type.transform(lambda x: x[0].split(\",\")[1].strip() if type(x) == list else x)"
   ]
  },
  {
   "cell_type": "code",
   "execution_count": 11,
   "id": "75c08b8b",
   "metadata": {},
   "outputs": [],
   "source": [
    "# type is cleaned\n",
    "df.type = df.type.transform(lambda x: x[0].split(\",\")[1].strip() if type(x) == list else x) "
   ]
  },
  {
   "cell_type": "code",
   "execution_count": 12,
   "id": "7f5221fa",
   "metadata": {},
   "outputs": [],
   "source": [
    "df.manufacturer_colour = df.manufacturer_colour.str.title()"
   ]
  },
  {
   "cell_type": "code",
   "execution_count": 13,
   "id": "aa178dd6",
   "metadata": {},
   "outputs": [],
   "source": [
    "# door is cleaned since entered in list. strip is used and transformed to float type\n",
    "df.doors = df.doors.apply(lambda x: x[0].split(\",\")[1].strip() if type(x) == list else x).astype(\"float\")"
   ]
  },
  {
   "cell_type": "code",
   "execution_count": 14,
   "id": "068df408",
   "metadata": {},
   "outputs": [],
   "source": [
    "df.country_version = df.country_version.apply(lambda x: x[0].split(\",\")[1].strip() if type(x) == list else x)"
   ]
  },
  {
   "cell_type": "code",
   "execution_count": 15,
   "id": "9428f941",
   "metadata": {},
   "outputs": [],
   "source": [
    "df.offer_number = df.offer_number.apply(lambda x: x[0].split(\",\")[1].strip() if type(x) == list else x)"
   ]
  },
  {
   "cell_type": "code",
   "execution_count": 128,
   "id": "efbe6cf6",
   "metadata": {},
   "outputs": [],
   "source": [
    "df.warranty = df.warranty.apply(lambda x : x[0].split(',')[1] if type(x) == list else x).str.strip()\n",
    "df.warranty = df.warranty.replace('0 months', np.nan).apply(lambda x :'Yes'  if (isinstance(x, str) and ('months' in x)) else x)"
   ]
  },
  {
   "cell_type": "code",
   "execution_count": 130,
   "id": "e9ff8df2",
   "metadata": {},
   "outputs": [
    {
     "data": {
      "text/plain": [
       "array(['Yes', nan], dtype=object)"
      ]
     },
     "execution_count": 130,
     "metadata": {},
     "output_type": "execute_result"
    }
   ],
   "source": [
    "df.warranty.unique()"
   ]
  },
  {
   "cell_type": "code",
   "execution_count": 20,
   "id": "95b25830",
   "metadata": {},
   "outputs": [],
   "source": [
    "df.mileage = df.mileage.str.replace(\"\\D+\",\"\", regex = True).astype(\"float\")"
   ]
  },
  {
   "cell_type": "code",
   "execution_count": 21,
   "id": "e88d768e",
   "metadata": {},
   "outputs": [],
   "source": [
    "df.gearbox = df.gearbox.apply(lambda x: x[0].strip() if type(x) == list else x)"
   ]
  },
  {
   "cell_type": "code",
   "execution_count": 22,
   "id": "fbf1e82e",
   "metadata": {},
   "outputs": [],
   "source": [
    "df.empty_weight = df.empty_weight.apply(lambda x: float(re.sub(r'[,kg]', '', x[0].strip())) if isinstance(x, list) else x)"
   ]
  },
  {
   "cell_type": "markdown",
   "id": "4c853c95",
   "metadata": {},
   "source": [
    "# Fuel Consumption"
   ]
  },
  {
   "cell_type": "code",
   "execution_count": 23,
   "id": "487cdbb8",
   "metadata": {},
   "outputs": [],
   "source": [
    "df.fuel_consumption = df.fuel_consumption.apply(lambda x: \"\".join([item for sublist in x for item in sublist]) if isinstance(x, list) else x)"
   ]
  },
  {
   "cell_type": "code",
   "execution_count": 24,
   "id": "aecb614c",
   "metadata": {},
   "outputs": [],
   "source": [
    "kg_consist = df[df.fuel_consumption.str.match(\"\\d+.*\\d* (kg/100)\") == True]"
   ]
  },
  {
   "cell_type": "code",
   "execution_count": 25,
   "id": "a496c4d2",
   "metadata": {},
   "outputs": [],
   "source": [
    "kg_index = kg_consist[\"fuel_consumption\"].index"
   ]
  },
  {
   "cell_type": "code",
   "execution_count": 26,
   "id": "2ad3f476",
   "metadata": {},
   "outputs": [
    {
     "data": {
      "text/plain": [
       "CNG                                                                                              86\n",
       "Domestic gas H                                                                                   22\n",
       "Domestic gas L                                                                                    8\n",
       "CNG (Particle filter)                                                                             8\n",
       "Domestic gas L (Particle filter)                                                                  1\n",
       "Biogas                                                                                            1\n",
       "Domestic gas H / Super E10 95 / Super Plus E10 98 / Super 95 / Super Plus 98 / Domestic gas L     1\n",
       "Domestic gas L / Super 95 / Domestic gas H                                                        1\n",
       "Hydrogen                                                                                          1\n",
       "Name: fuel_type, dtype: int64"
      ]
     },
     "execution_count": 26,
     "metadata": {},
     "output_type": "execute_result"
    }
   ],
   "source": [
    "df.loc[kg_index,\"fuel_type\"].value_counts()"
   ]
  },
  {
   "cell_type": "code",
   "execution_count": 27,
   "id": "9c0d4048",
   "metadata": {},
   "outputs": [],
   "source": [
    "cng = df[(df.fuel_consumption.str.match(\"\\d+.*\\d* (kg/100)\") == True) & (df[\"fuel_type\"] == \"CNG\")].index\n",
    "do_l = df[(df.fuel_consumption.str.match(\"\\d+.*\\d* (kg/100)\") == True) & (df[\"fuel_type\"] == \"Domestic gas L\")].index\n",
    "do_h = df[(df.fuel_consumption.str.match(\"\\d+.*\\d* (kg/100)\") == True) & (df[\"fuel_type\"] == \"Domestic gas H\")].index\n",
    "cng_partic = df[(df.fuel_consumption.str.match(\"\\d+.*\\d* (kg/100)\") == True) & (df[\"fuel_type\"] == \"CNG (Particle filter)\")].index\n",
    "do_l_partic = df[(df.fuel_consumption.str.match(\"\\d+.*\\d* (kg/100)\") == True) & (df[\"fuel_type\"] == \"Domestic gas L (Particle filter)\")].index\n",
    "biogas = df[(df.fuel_consumption.str.match(\"\\d+.*\\d* (kg/100)\") == True) & (df[\"fuel_type\"] == \"Biogas\")].index\n",
    "do_sup_plus = df[(df.fuel_consumption.str.match(\"\\d+.*\\d* (kg/100)\") == True) & (df[\"fuel_type\"] == \"Domestic gas H / Super E10 95 / Super Plus E10 98 / Super 95 / Super Plus 98 / Domestic gas L\")].index\n",
    "do_sup = df[(df.fuel_consumption.str.match(\"\\d+.*\\d* (kg/100)\") == True) & (df[\"fuel_type\"] == \"Domestic gas L / Super 95 / Domestic gas H\")].index\n",
    "hydrogen = df[(df.fuel_consumption.str.match(\"\\d+.*\\d* (kg/100)\") == True) & (df[\"fuel_type\"] == \"Hydrogen\")].index"
   ]
  },
  {
   "cell_type": "code",
   "execution_count": 28,
   "id": "c5f09020",
   "metadata": {},
   "outputs": [],
   "source": [
    "df.fuel_consumption = df['fuel_consumption'].str.extract(r'^(\\d+\\.*\\d*)').astype(\"float64\")"
   ]
  },
  {
   "cell_type": "code",
   "execution_count": 29,
   "id": "34958b85",
   "metadata": {},
   "outputs": [
    {
     "data": {
      "text/plain": [
       "13505    3.3\n",
       "Name: fuel_consumption, dtype: float64"
      ]
     },
     "execution_count": 29,
     "metadata": {},
     "output_type": "execute_result"
    }
   ],
   "source": [
    "df.loc[biogas, \"fuel_consumption\"]"
   ]
  },
  {
   "cell_type": "code",
   "execution_count": 30,
   "id": "6ce61974",
   "metadata": {},
   "outputs": [],
   "source": [
    "df.loc[cng, \"fuel_consumption\"] = (df[df[\"fuel_type\"] == \"CNG\"][\"fuel_consumption\"].dropna() / 0.735).round(1)\n",
    "df.loc[do_l, \"fuel_consumption\"] = (df[df[\"fuel_type\"] == \"Domestic gas L\"][\"fuel_consumption\"].dropna() / 1).round(1)\n",
    "df.loc[do_h, \"fuel_consumption\"] = (df[df[\"fuel_type\"] == \"Domestic gas H\"][\"fuel_consumption\"].dropna() / 0.6).round(1)\n",
    "df.loc[cng_partic, \"fuel_consumption\"] = (df[df[\"fuel_type\"] == \"CNG (Particle filter)\"][\"fuel_consumption\"].dropna() / 0.735).round(1)\n",
    "df.loc[do_l_partic, \"fuel_consumption\"] = (df[df[\"fuel_type\"] == \"Domestic gas L (Particle filter)\"][\"fuel_consumption\"].dropna() / 0.65).round(1)\n",
    "df.loc[biogas, \"fuel_consumption\"] = (df[df[\"fuel_type\"] == \"Biogas\"][\"fuel_consumption\"].dropna() / 0.8).round(1)\n",
    "df.loc[do_sup_plus, \"fuel_consumption\"] = (df[df[\"fuel_type\"] == \"Domestic gas H / Super E10 95 / Super Plus E10 98 / Super 95 / Super Plus 98 / Domestic gas L\"][\"fuel_consumption\"].dropna() / 0.76).round(1)\n",
    "df.loc[do_sup, \"fuel_consumption\"] = (df[df[\"fuel_type\"] == \"Domestic gas L / Super 95 / Domestic gas H\"][\"fuel_consumption\"].dropna() / 0.75).round(1)\n",
    "df.loc[hydrogen, \"fuel_consumption\"] = (df[df[\"fuel_type\"] == \"Hydrogen\"][\"fuel_consumption\"].dropna() / 0.09).round(1)\n"
   ]
  },
  {
   "cell_type": "code",
   "execution_count": 31,
   "id": "2f7dde5f",
   "metadata": {},
   "outputs": [
    {
     "data": {
      "text/plain": [
       "13505    4.1\n",
       "Name: fuel_consumption, dtype: float64"
      ]
     },
     "execution_count": 31,
     "metadata": {},
     "output_type": "execute_result"
    }
   ],
   "source": [
    "df.loc[biogas, \"fuel_consumption\"]"
   ]
  },
  {
   "cell_type": "markdown",
   "id": "c2867fa4",
   "metadata": {},
   "source": [
    "# fuel_type"
   ]
  },
  {
   "cell_type": "code",
   "execution_count": 32,
   "id": "dd0106f9",
   "metadata": {},
   "outputs": [],
   "source": [
    "# fuel_type has been classified into five main category\n",
    "def fuel_type_main(x):\n",
    "    if isinstance(x, str):\n",
    "        if re.search(r\"CNG|Hydrogen|^Biogas|Domestic|Ethanol|Others\", x):\n",
    "            return \"Other\"\n",
    "        elif re.search(r\"LPG\", x):\n",
    "            return \"LPG\"\n",
    "        elif re.search(r\"Electric\", x):\n",
    "            return \"Electric\"\n",
    "        elif re.search(r\"Regular|Benzine|Super|Gasoline\", x):\n",
    "            return \"Benzine\"\n",
    "        elif re.search(r\"Diesel\", x):\n",
    "            return \"Diesel\"\n",
    "        else:\n",
    "            return \"Other\"\n",
    "    return x\n",
    "\n"
   ]
  },
  {
   "cell_type": "code",
   "execution_count": 33,
   "id": "58d60530",
   "metadata": {},
   "outputs": [],
   "source": [
    "df[\"fuel_type\"] = df.fuel_type.apply(fuel_type_main)"
   ]
  },
  {
   "cell_type": "markdown",
   "id": "6a2f414d",
   "metadata": {},
   "source": [
    "# Fuel Consumption Part 2"
   ]
  },
  {
   "cell_type": "code",
   "execution_count": 34,
   "id": "48849477",
   "metadata": {},
   "outputs": [
    {
     "data": {
      "text/plain": [
       "fuel_type  fuel_consumption\n",
       "Benzine    NaN                 2953\n",
       "           5.0                  554\n",
       "           5.4                  491\n",
       "           4.9                  480\n",
       "           5.1                  475\n",
       "                               ... \n",
       "Other      8.9                    1\n",
       "           9.8                    1\n",
       "           11.4                   1\n",
       "           11.8                   1\n",
       "           12.4                   1\n",
       "Name: fuel_consumption, Length: 357, dtype: int64"
      ]
     },
     "execution_count": 34,
     "metadata": {},
     "output_type": "execute_result"
    }
   ],
   "source": [
    "df.groupby(\"fuel_type\")[\"fuel_consumption\"].value_counts(dropna = False)"
   ]
  },
  {
   "cell_type": "code",
   "execution_count": 35,
   "id": "3c5f01ac",
   "metadata": {},
   "outputs": [],
   "source": [
    "# coverting to KwH type\n",
    "# fuel_type (lt = ... kwH)\n",
    "# Lpg = 6.98\n",
    "# Diesel = 10,96\n",
    "# Gasoline = 9.61\n",
    "# Electric = missing value = kwh\n",
    "# others 1.92"
   ]
  },
  {
   "cell_type": "code",
   "execution_count": 36,
   "id": "3c612ff8",
   "metadata": {},
   "outputs": [],
   "source": [
    "df.loc[df[df[\"fuel_type\"] == \"Lpg\"].index, \"fuel_consumption\"] = (df.loc[df[df[\"fuel_type\"] == \"Lpg\"].index, \"fuel_consumption\"] * 6.98).round(1)\n",
    "\n",
    "df.loc[df[df[\"fuel_type\"] == \"Diesel\"].index, \"fuel_consumption\"] = (df.loc[df[df[\"fuel_type\"] == \"Diesel\"].index, \"fuel_consumption\"] * 10.96).round(1)\n",
    "\n",
    "df.loc[df[df[\"fuel_type\"] == \"Benzine\"].index, \"fuel_consumption\"] = (df.loc[df[df[\"fuel_type\"] == \"Benzine\"].index, \"fuel_consumption\"] * 9.61).round(1)\n",
    "\n",
    "df.loc[df[df[\"fuel_type\"] == \"Others\"].index, \"fuel_consumption\"] = (df.loc[df[df[\"fuel_type\"] == \"Others\"].index, \"fuel_consumption\"] * 1.92).round(1)"
   ]
  },
  {
   "cell_type": "code",
   "execution_count": 37,
   "id": "6b909ef3",
   "metadata": {},
   "outputs": [
    {
     "data": {
      "text/plain": [
       "fuel_type  fuel_consumption\n",
       "Benzine    NaN                 2953\n",
       "           48.0                 554\n",
       "           51.9                 491\n",
       "           47.1                 480\n",
       "           49.0                 475\n",
       "                               ... \n",
       "Other      8.9                    1\n",
       "           9.8                    1\n",
       "           11.4                   1\n",
       "           11.8                   1\n",
       "           12.4                   1\n",
       "Name: fuel_consumption, Length: 357, dtype: int64"
      ]
     },
     "execution_count": 37,
     "metadata": {},
     "output_type": "execute_result"
    }
   ],
   "source": [
    "df.groupby(\"fuel_type\")[\"fuel_consumption\"].value_counts(dropna = False)"
   ]
  },
  {
   "cell_type": "code",
   "execution_count": 38,
   "id": "f8776a1b",
   "metadata": {},
   "outputs": [],
   "source": [
    "df.seats = df.seats.apply(lambda x: x[0].split(\",\")[1] if type(x) == list else x).astype(\"float\")"
   ]
  },
  {
   "cell_type": "code",
   "execution_count": 39,
   "id": "face8575",
   "metadata": {},
   "outputs": [],
   "source": [
    "#Horse Power\n",
    "\n",
    "df[\"power\"] = df.power.apply(lambda x: x[0].split(\"hp\")[0].split(r\"(\")[1].strip().replace(\",\",\"\") if type(x) == list else x).astype(\"float\")"
   ]
  },
  {
   "cell_type": "code",
   "execution_count": 40,
   "id": "9793cdc1",
   "metadata": {},
   "outputs": [
    {
     "data": {
      "text/plain": [
       "6736     1.5\n",
       "8159     2.7\n",
       "3300     2.0\n",
       "1670     2.0\n",
       "25706    2.0\n",
       "25626    1.2\n",
       "20274    1.5\n",
       "12203    1.5\n",
       "21467    1.0\n",
       "2038     4.0\n",
       "Name: engine_size, dtype: float64"
      ]
     },
     "execution_count": 40,
     "metadata": {},
     "output_type": "execute_result"
    }
   ],
   "source": [
    "# engine_size\n",
    "df.engine_size = (df.engine_size.apply(lambda x: x[0].strip().strip(\"cc\").strip().replace(\",\",\"\") if type(x) == list else x).astype(\"float\").apply(lambda x: x/1000)).round(1)\n",
    "df.engine_size.sample(10)"
   ]
  },
  {
   "cell_type": "code",
   "execution_count": 41,
   "id": "41996918",
   "metadata": {},
   "outputs": [
    {
     "data": {
      "text/plain": [
       "23242    6.0\n",
       "12890    7.0\n",
       "12628    6.0\n",
       "6527     5.0\n",
       "5323     NaN\n",
       "Name: gears, dtype: float64"
      ]
     },
     "execution_count": 41,
     "metadata": {},
     "output_type": "execute_result"
    }
   ],
   "source": [
    "# number of gears\n",
    "df.gears = df.gears.apply(lambda x: x[0].strip() if type(x) == list else x).astype(\"float\")\n",
    "df.gears.sample(5)"
   ]
  },
  {
   "cell_type": "code",
   "execution_count": 42,
   "id": "2cc9d443",
   "metadata": {},
   "outputs": [
    {
     "data": {
      "text/plain": [
       "3364       NaN\n",
       "26169    123.0\n",
       "17365    104.0\n",
       "28116    144.0\n",
       "20296    122.0\n",
       "Name: co_emissions, dtype: float64"
      ]
     },
     "execution_count": 42,
     "metadata": {},
     "output_type": "execute_result"
    }
   ],
   "source": [
    "# co_emissions g/km\n",
    "df.co_emissions = df.co_emissions.apply(lambda x: x.split(\"g\")[0].strip().replace(\",\",\"\") if type(x) == str else x).astype(\"float\")\n",
    "df.co_emissions.sample(5)"
   ]
  },
  {
   "cell_type": "code",
   "execution_count": 43,
   "id": "74ee58ec",
   "metadata": {},
   "outputs": [],
   "source": [
    "# drivetrains type \n",
    "df.drivetrain = df.drivetrain.apply(lambda x: x[0].strip().strip(\",\").strip() if type(x) == list else x)"
   ]
  },
  {
   "cell_type": "code",
   "execution_count": 44,
   "id": "bab863a4",
   "metadata": {
    "scrolled": true
   },
   "outputs": [
    {
     "data": {
      "text/plain": [
       "4.0     13068\n",
       "3.0      3258\n",
       "6.0      1013\n",
       "5.0       799\n",
       "8.0       539\n",
       "2.0       103\n",
       "0.0        35\n",
       "1.0        21\n",
       "12.0        8\n",
       "7.0         6\n",
       "26.0        1\n",
       "16.0        1\n",
       "Name: cylinders, dtype: int64"
      ]
     },
     "execution_count": 44,
     "metadata": {},
     "output_type": "execute_result"
    }
   ],
   "source": [
    "# cyclinders\n",
    "df.cylinders = df.cylinders.apply(lambda x: x[0].strip() if type(x) == list else x).astype(\"float\")\n",
    "df.cylinders.value_counts()"
   ]
  },
  {
   "cell_type": "code",
   "execution_count": 45,
   "id": "8ff4631a",
   "metadata": {},
   "outputs": [
    {
     "data": {
      "text/plain": [
       "array([nan, '0999/338', '2222/AJB', ..., '9101/BSF', '9101/389',\n",
       "       '9101/449'], dtype=object)"
      ]
     },
     "execution_count": 45,
     "metadata": {},
     "output_type": "execute_result"
    }
   ],
   "source": [
    "# model code\n",
    "df.model_code = df.model_code.apply(lambda x: x[0].strip().strip(\",\").strip() if type(x) == list else x)\n",
    "df.model_code.unique()"
   ]
  },
  {
   "cell_type": "code",
   "execution_count": 46,
   "id": "b401d184",
   "metadata": {},
   "outputs": [],
   "source": [
    "df[\"first_registration\"] = pd.to_datetime(df[\"first_registration\"])    # transformed into date time. day and month can be removed"
   ]
  },
  {
   "cell_type": "code",
   "execution_count": 47,
   "id": "e79026df",
   "metadata": {},
   "outputs": [],
   "source": [
    "#warranty and first registration"
   ]
  },
  {
   "cell_type": "code",
   "execution_count": 48,
   "id": "8c36b88c",
   "metadata": {},
   "outputs": [
    {
     "data": {
      "text/html": [
       "<div>\n",
       "<style scoped>\n",
       "    .dataframe tbody tr th:only-of-type {\n",
       "        vertical-align: middle;\n",
       "    }\n",
       "\n",
       "    .dataframe tbody tr th {\n",
       "        vertical-align: top;\n",
       "    }\n",
       "\n",
       "    .dataframe thead th {\n",
       "        text-align: right;\n",
       "    }\n",
       "</style>\n",
       "<table border=\"1\" class=\"dataframe\">\n",
       "  <thead>\n",
       "    <tr style=\"text-align: right;\">\n",
       "      <th></th>\n",
       "      <th>first_registration</th>\n",
       "      <th>warranty</th>\n",
       "    </tr>\n",
       "  </thead>\n",
       "  <tbody>\n",
       "    <tr>\n",
       "      <th>0</th>\n",
       "      <td>2016-06-01</td>\n",
       "      <td>Yes</td>\n",
       "    </tr>\n",
       "    <tr>\n",
       "      <th>1</th>\n",
       "      <td>2022-06-01</td>\n",
       "      <td>Yes</td>\n",
       "    </tr>\n",
       "    <tr>\n",
       "      <th>2</th>\n",
       "      <td>2020-07-01</td>\n",
       "      <td>Yes</td>\n",
       "    </tr>\n",
       "    <tr>\n",
       "      <th>3</th>\n",
       "      <td>2020-01-01</td>\n",
       "      <td>Yes</td>\n",
       "    </tr>\n",
       "    <tr>\n",
       "      <th>4</th>\n",
       "      <td>2015-09-01</td>\n",
       "      <td>Yes</td>\n",
       "    </tr>\n",
       "    <tr>\n",
       "      <th>...</th>\n",
       "      <td>...</td>\n",
       "      <td>...</td>\n",
       "    </tr>\n",
       "    <tr>\n",
       "      <th>29475</th>\n",
       "      <td>2004-06-01</td>\n",
       "      <td>NaN</td>\n",
       "    </tr>\n",
       "    <tr>\n",
       "      <th>29476</th>\n",
       "      <td>2011-04-01</td>\n",
       "      <td>Yes</td>\n",
       "    </tr>\n",
       "    <tr>\n",
       "      <th>29477</th>\n",
       "      <td>2017-11-01</td>\n",
       "      <td>Yes</td>\n",
       "    </tr>\n",
       "    <tr>\n",
       "      <th>29478</th>\n",
       "      <td>2002-07-01</td>\n",
       "      <td>NaN</td>\n",
       "    </tr>\n",
       "    <tr>\n",
       "      <th>29479</th>\n",
       "      <td>NaT</td>\n",
       "      <td>NaN</td>\n",
       "    </tr>\n",
       "  </tbody>\n",
       "</table>\n",
       "<p>29480 rows × 2 columns</p>\n",
       "</div>"
      ],
      "text/plain": [
       "      first_registration warranty\n",
       "0             2016-06-01      Yes\n",
       "1             2022-06-01      Yes\n",
       "2             2020-07-01      Yes\n",
       "3             2020-01-01      Yes\n",
       "4             2015-09-01      Yes\n",
       "...                  ...      ...\n",
       "29475         2004-06-01      NaN\n",
       "29476         2011-04-01      Yes\n",
       "29477         2017-11-01      Yes\n",
       "29478         2002-07-01      NaN\n",
       "29479                NaT      NaN\n",
       "\n",
       "[29480 rows x 2 columns]"
      ]
     },
     "execution_count": 48,
     "metadata": {},
     "output_type": "execute_result"
    }
   ],
   "source": [
    "df.loc[:,[\"first_registration\", \"warranty\"]] # yesleri nan yapiyoruz. nanlari (groupby: model, first_registration) tarafina gore fill na yapacagiz."
   ]
  },
  {
   "cell_type": "code",
   "execution_count": 49,
   "id": "f7172d9e",
   "metadata": {},
   "outputs": [
    {
     "data": {
      "text/html": [
       "<div>\n",
       "<style scoped>\n",
       "    .dataframe tbody tr th:only-of-type {\n",
       "        vertical-align: middle;\n",
       "    }\n",
       "\n",
       "    .dataframe tbody tr th {\n",
       "        vertical-align: top;\n",
       "    }\n",
       "\n",
       "    .dataframe thead th {\n",
       "        text-align: right;\n",
       "    }\n",
       "</style>\n",
       "<table border=\"1\" class=\"dataframe\">\n",
       "  <thead>\n",
       "    <tr style=\"text-align: right;\">\n",
       "      <th></th>\n",
       "      <th>first_registration</th>\n",
       "      <th>warranty</th>\n",
       "    </tr>\n",
       "  </thead>\n",
       "  <tbody>\n",
       "    <tr>\n",
       "      <th>0</th>\n",
       "      <td>79.0</td>\n",
       "      <td>Yes</td>\n",
       "    </tr>\n",
       "    <tr>\n",
       "      <th>1</th>\n",
       "      <td>7.0</td>\n",
       "      <td>Yes</td>\n",
       "    </tr>\n",
       "    <tr>\n",
       "      <th>2</th>\n",
       "      <td>30.0</td>\n",
       "      <td>Yes</td>\n",
       "    </tr>\n",
       "    <tr>\n",
       "      <th>3</th>\n",
       "      <td>36.0</td>\n",
       "      <td>Yes</td>\n",
       "    </tr>\n",
       "    <tr>\n",
       "      <th>4</th>\n",
       "      <td>88.0</td>\n",
       "      <td>Yes</td>\n",
       "    </tr>\n",
       "    <tr>\n",
       "      <th>...</th>\n",
       "      <td>...</td>\n",
       "      <td>...</td>\n",
       "    </tr>\n",
       "    <tr>\n",
       "      <th>29475</th>\n",
       "      <td>223.0</td>\n",
       "      <td>NaN</td>\n",
       "    </tr>\n",
       "    <tr>\n",
       "      <th>29476</th>\n",
       "      <td>141.0</td>\n",
       "      <td>Yes</td>\n",
       "    </tr>\n",
       "    <tr>\n",
       "      <th>29477</th>\n",
       "      <td>62.0</td>\n",
       "      <td>Yes</td>\n",
       "    </tr>\n",
       "    <tr>\n",
       "      <th>29478</th>\n",
       "      <td>246.0</td>\n",
       "      <td>NaN</td>\n",
       "    </tr>\n",
       "    <tr>\n",
       "      <th>29479</th>\n",
       "      <td>NaN</td>\n",
       "      <td>NaN</td>\n",
       "    </tr>\n",
       "  </tbody>\n",
       "</table>\n",
       "<p>29480 rows × 2 columns</p>\n",
       "</div>"
      ],
      "text/plain": [
       "       first_registration warranty\n",
       "0                    79.0      Yes\n",
       "1                     7.0      Yes\n",
       "2                    30.0      Yes\n",
       "3                    36.0      Yes\n",
       "4                    88.0      Yes\n",
       "...                   ...      ...\n",
       "29475               223.0      NaN\n",
       "29476               141.0      Yes\n",
       "29477                62.0      Yes\n",
       "29478               246.0      NaN\n",
       "29479                 NaN      NaN\n",
       "\n",
       "[29480 rows x 2 columns]"
      ]
     },
     "execution_count": 49,
     "metadata": {},
     "output_type": "execute_result"
    }
   ],
   "source": [
    "date = datetime.strptime(\"31-12-2022\", \"%d-%m-%Y\")\n",
    "# Age of the automobile and and remaining warranty duration\n",
    "x = round((date - df[\"first_registration\"])/np.timedelta64(1, 'M'),0).to_frame()\n",
    "x[\"warranty\"] = df.warranty\n",
    "x"
   ]
  },
  {
   "cell_type": "code",
   "execution_count": 50,
   "id": "d5d68cf9",
   "metadata": {},
   "outputs": [
    {
     "data": {
      "text/plain": [
       "27025    2008.0\n",
       "Name: first_registration, dtype: float64"
      ]
     },
     "execution_count": 50,
     "metadata": {},
     "output_type": "execute_result"
    }
   ],
   "source": [
    "# first_registration will be classifien in year format \n",
    "df.first_registration = df.first_registration.dt.year\n",
    "df.first_registration.sample()"
   ]
  },
  {
   "cell_type": "markdown",
   "id": "9b51b268",
   "metadata": {},
   "source": [
    "# General Inspection"
   ]
  },
  {
   "cell_type": "code",
   "execution_count": 51,
   "id": "54796209",
   "metadata": {},
   "outputs": [
    {
     "data": {
      "text/plain": [
       "NaN        17226\n",
       "New         5883\n",
       "05/2023      286\n",
       "08/2023      280\n",
       "03/2023      268\n",
       "           ...  \n",
       "09/2017        1\n",
       "08/2013        1\n",
       "08/2020        1\n",
       "08/2018        1\n",
       "03/2021        1\n",
       "Name: general_inspection, Length: 92, dtype: int64"
      ]
     },
     "execution_count": 51,
     "metadata": {},
     "output_type": "execute_result"
    }
   ],
   "source": [
    "df.general_inspection.value_counts(dropna = False) # \"New\" values are transformed into NaN values"
   ]
  },
  {
   "cell_type": "code",
   "execution_count": 52,
   "id": "37bbb653",
   "metadata": {},
   "outputs": [
    {
     "data": {
      "text/plain": [
       "2023.0    2781\n",
       "2024.0    1871\n",
       "2025.0     868\n",
       "2022.0     720\n",
       "2021.0      73\n",
       "2026.0      23\n",
       "2020.0      18\n",
       "2019.0       8\n",
       "2018.0       3\n",
       "2017.0       3\n",
       "2027.0       2\n",
       "2013.0       1\n",
       "Name: general_inspection, dtype: int64"
      ]
     },
     "execution_count": 52,
     "metadata": {},
     "output_type": "execute_result"
    }
   ],
   "source": [
    "df.general_inspection = df.general_inspection.replace(to_replace = \"New\", value = np.nan).astype(\"datetime64[ns]\").dt.year\n",
    "df.general_inspection.value_counts()"
   ]
  },
  {
   "cell_type": "code",
   "execution_count": 53,
   "id": "0b255e67",
   "metadata": {},
   "outputs": [
    {
     "data": {
      "text/plain": [
       "NaN        27477\n",
       "09/2022      220\n",
       "08/2022      196\n",
       "06/2022      164\n",
       "07/2022      155\n",
       "           ...  \n",
       "02/2018        1\n",
       "02/2011        1\n",
       "10/2013        1\n",
       "08/2017        1\n",
       "08/2019        1\n",
       "Name: last_service, Length: 62, dtype: int64"
      ]
     },
     "execution_count": 53,
     "metadata": {},
     "output_type": "execute_result"
    }
   ],
   "source": [
    "# last service will be dropped\n",
    "df.last_service.value_counts(dropna = False)"
   ]
  },
  {
   "cell_type": "code",
   "execution_count": 54,
   "id": "be833ab0",
   "metadata": {},
   "outputs": [],
   "source": [
    "df.available_from = df.available_from.apply(lambda x: x[0].split(\",\")[1] if type(x) == list else x).astype(\"datetime64[ns]\")"
   ]
  },
  {
   "cell_type": "code",
   "execution_count": 55,
   "id": "ba64443e",
   "metadata": {
    "scrolled": true
   },
   "outputs": [
    {
     "data": {
      "text/plain": [
       "427     2022-01-12\n",
       "471     2023-03-03\n",
       "484     2023-03-31\n",
       "499     2022-12-13\n",
       "533     2022-12-18\n",
       "           ...    \n",
       "27858   2022-12-15\n",
       "27931   2023-01-04\n",
       "28120   2023-02-02\n",
       "28223   2022-11-15\n",
       "28242   2022-12-15\n",
       "Name: available_from, Length: 393, dtype: datetime64[ns]"
      ]
     },
     "execution_count": 55,
     "metadata": {},
     "output_type": "execute_result"
    }
   ],
   "source": [
    "df[df.available_from.notnull()].available_from"
   ]
  },
  {
   "cell_type": "code",
   "execution_count": 56,
   "id": "4a725af8",
   "metadata": {},
   "outputs": [],
   "source": [
    "df.availability = df.availability.apply(lambda x: x[0].strip() if type(x) == list else x)"
   ]
  },
  {
   "cell_type": "code",
   "execution_count": 57,
   "id": "3b1bb551",
   "metadata": {},
   "outputs": [
    {
     "data": {
      "text/plain": [
       "array([nan, ', in 1 day after order,', ', in 120 days after order,',\n",
       "       ', in 7 days after order,', ', in 3 days after order,',\n",
       "       ', in 180 days after order,', ', in 42 days after order,',\n",
       "       ', in 60 days after order,', ', in 90 days after order,',\n",
       "       ', in 5 days after order,', ', in 6 days after order,',\n",
       "       ', in 14 days after order,', ', in 28 days after order,',\n",
       "       ', in 360 days after order,', ', in 270 days after order,',\n",
       "       ', in 21 days after order,', ', in 4 days after order,',\n",
       "       ', in 2 days after order,', ', in 150 days after order,'],\n",
       "      dtype=object)"
      ]
     },
     "execution_count": 57,
     "metadata": {},
     "output_type": "execute_result"
    }
   ],
   "source": [
    "df.availability.unique()"
   ]
  },
  {
   "cell_type": "code",
   "execution_count": 58,
   "id": "061b9c1a",
   "metadata": {},
   "outputs": [
    {
     "data": {
      "text/plain": [
       "2022.0    1345\n",
       "2021.0     512\n",
       "2020.0      97\n",
       "2019.0      23\n",
       "2018.0      12\n",
       "2017.0       5\n",
       "2016.0       2\n",
       "2013.0       1\n",
       "2011.0       1\n",
       "1988.0       1\n",
       "2007.0       1\n",
       "2023.0       1\n",
       "2010.0       1\n",
       "2012.0       1\n",
       "Name: last_service, dtype: int64"
      ]
     },
     "execution_count": 58,
     "metadata": {},
     "output_type": "execute_result"
    }
   ],
   "source": [
    "df.last_service = df.last_service.astype(\"datetime64[ns]\").dt.year\n",
    "df.last_service.value_counts()"
   ]
  },
  {
   "cell_type": "code",
   "execution_count": 59,
   "id": "e68c0854",
   "metadata": {},
   "outputs": [
    {
     "data": {
      "text/plain": [
       "NaN    0.606716\n",
       "Yes    0.393284\n",
       "Name: non_smoker_vehicle, dtype: float64"
      ]
     },
     "execution_count": 59,
     "metadata": {},
     "output_type": "execute_result"
    }
   ],
   "source": [
    "df.non_smoker_vehicle.value_counts(dropna = False, normalize = True) "
   ]
  },
  {
   "cell_type": "code",
   "execution_count": 60,
   "id": "5c43c1f9",
   "metadata": {
    "scrolled": true
   },
   "outputs": [
    {
     "data": {
      "text/plain": [
       "array([nan, 'Euro 4', 'Euro 6', 'Euro 6d-TEMP', 'Euro 5', 'Euro 6d',\n",
       "       'Euro 6c', 'Euro 3', 'Euro 2', 'Euro 1'], dtype=object)"
      ]
     },
     "execution_count": 60,
     "metadata": {},
     "output_type": "execute_result"
    }
   ],
   "source": [
    "# will be classified as 10-20-30 and examined\n",
    "df.emission_class.unique() # euro standatlari aracin uretildigi tarihteki gecerli olan emission limitlerine uygun olmak zorunda.\n",
    "                           # kullanici etkisi ise avrupada bazi sehirlerde bazi bolgelerde zonelar var bu bolgelere belirli euro limiti alti arac giremiyor   "
   ]
  },
  {
   "cell_type": "code",
   "execution_count": 61,
   "id": "8387a0d3",
   "metadata": {},
   "outputs": [
    {
     "data": {
      "text/plain": [
       "array([nan, 40., 60., 66., 50., 64., 62., 30., 20., 10.])"
      ]
     },
     "execution_count": 61,
     "metadata": {},
     "output_type": "execute_result"
    }
   ],
   "source": [
    "# euro emisson types are reclassified as below\n",
    "emission_new = {\n",
    "    'Euro 1': 10,\n",
    "    'Euro 2': 20,\n",
    "    'Euro 3': 30,\n",
    "    'Euro 4': 40,\n",
    "    'Euro 5': 50,\n",
    "    'Euro 6': 60,\n",
    "    'Euro 6c': 62,\n",
    "    'Euro 6d': 64,\n",
    "    'Euro 6d-TEMP': 66,\n",
    "}\n",
    "\n",
    "df['emission_class'] = df['emission_class'].map(emission_new)\n",
    "\n",
    "\n",
    "df['emission_class'].unique()"
   ]
  },
  {
   "cell_type": "code",
   "execution_count": 62,
   "id": "7d88769b",
   "metadata": {},
   "outputs": [
    {
     "data": {
      "text/plain": [
       "8        Benzine\n",
       "10        Diesel\n",
       "16           NaN\n",
       "23       Benzine\n",
       "30       Benzine\n",
       "          ...   \n",
       "29443     Diesel\n",
       "29446    Benzine\n",
       "29461    Benzine\n",
       "29471     Diesel\n",
       "29477    Benzine\n",
       "Name: fuel_type, Length: 6418, dtype: object"
      ]
     },
     "execution_count": 62,
     "metadata": {},
     "output_type": "execute_result"
    }
   ],
   "source": [
    "df[df[\"emission_class\"] == 60][\"fuel_type\"]"
   ]
  },
  {
   "cell_type": "code",
   "execution_count": 63,
   "id": "e6673b30",
   "metadata": {
    "scrolled": true
   },
   "outputs": [
    {
     "data": {
      "text/plain": [
       "NaN               0.680665\n",
       "4 (Green)         0.313094\n",
       "1 (No sticker)    0.005970\n",
       "3 (Yellow)        0.000204\n",
       "2 (Red)           0.000068\n",
       "Name: emissions_sticker, dtype: float64"
      ]
     },
     "execution_count": 63,
     "metadata": {},
     "output_type": "execute_result"
    }
   ],
   "source": [
    "# emissions_sticker\n",
    "df.emissions_sticker.value_counts(dropna = False, normalize = True)  \n",
    "# emisson class emisson sticker co_emmisions co_efficiency bir sutunda toplanacak"
   ]
  },
  {
   "cell_type": "code",
   "execution_count": 64,
   "id": "816d33a8",
   "metadata": {
    "scrolled": true
   },
   "outputs": [
    {
     "data": {
      "text/plain": [
       "array([nan, '4 (Green)', '1 (No sticker)', '3 (Yellow)', '2 (Red)'],\n",
       "      dtype=object)"
      ]
     },
     "execution_count": 64,
     "metadata": {},
     "output_type": "execute_result"
    }
   ],
   "source": [
    "# emission sticker has been reclassified as 1, 2, 3, 4 \n",
    "df.emissions_sticker.unique() "
   ]
  },
  {
   "cell_type": "code",
   "execution_count": 65,
   "id": "c4a5bbd8",
   "metadata": {},
   "outputs": [],
   "source": [
    "emission_sticker_new = {\n",
    "    '1 (No sticker)' : 1,\n",
    "    '2 (Red)' : 2,\n",
    "    '3 (Yellow)' : 3,\n",
    "    '4 (Green)' : 4\n",
    "}\n",
    "\n",
    "df[\"emissions_sticker\"] = df[\"emissions_sticker\"].map(emission_sticker_new)"
   ]
  },
  {
   "cell_type": "code",
   "execution_count": 66,
   "id": "a6f25359",
   "metadata": {},
   "outputs": [
    {
     "data": {
      "text/plain": [
       "array([nan,  4.,  1.,  3.,  2.])"
      ]
     },
     "execution_count": 66,
     "metadata": {},
     "output_type": "execute_result"
    }
   ],
   "source": [
    "df.emissions_sticker.unique()"
   ]
  },
  {
   "cell_type": "code",
   "execution_count": 67,
   "id": "a6fda3dc",
   "metadata": {},
   "outputs": [
    {
     "data": {
      "text/plain": [
       "0.0      14\n",
       "125.0     8\n",
       "130.0     4\n",
       "129.0     4\n",
       "153.0     3\n",
       "         ..\n",
       "285.0     1\n",
       "211.0     1\n",
       "159.0     1\n",
       "115.0     1\n",
       "123.0     1\n",
       "Name: co_emissions_wltp, Length: 68, dtype: int64"
      ]
     },
     "execution_count": 67,
     "metadata": {},
     "output_type": "execute_result"
    }
   ],
   "source": [
    "df.co_emissions_wltp = df.co_emissions_wltp.apply(lambda x: x.split(\"g\")[0].strip().replace(\",\",\"\") if type(x) == str else x).astype(\"float\")\n",
    "df.co_emissions_wltp.value_counts()"
   ]
  },
  {
   "cell_type": "code",
   "execution_count": 68,
   "id": "3bb7c0e9",
   "metadata": {},
   "outputs": [
    {
     "data": {
      "text/plain": [
       "6919   NaN\n",
       "Name: fuel_consumption_wltp, dtype: float64"
      ]
     },
     "execution_count": 68,
     "metadata": {},
     "output_type": "execute_result"
    }
   ],
   "source": [
    "df.fuel_consumption_wltp = df.fuel_consumption_wltp.apply(lambda x: x.split(\"l\")[0].strip().replace(\",\",\"\") if type(x) == str else x).astype(\"float\")\n",
    "df.fuel_consumption_wltp.sample()"
   ]
  },
  {
   "cell_type": "code",
   "execution_count": 69,
   "id": "42c787b0",
   "metadata": {},
   "outputs": [
    {
     "data": {
      "text/plain": [
       "1     9746\n",
       "2     3221\n",
       "3      699\n",
       "4      184\n",
       "5       69\n",
       "6       37\n",
       "7       22\n",
       "8       16\n",
       "9       14\n",
       "12       3\n",
       "10       2\n",
       "14       1\n",
       "13       1\n",
       "Name: previous_owner, dtype: int64"
      ]
     },
     "execution_count": 69,
     "metadata": {},
     "output_type": "execute_result"
    }
   ],
   "source": [
    "df.previous_owner = df.previous_owner.apply(lambda x: x[1] if type(x) == list else x)\n",
    "df.previous_owner.value_counts()"
   ]
  },
  {
   "cell_type": "markdown",
   "id": "76adb3c0",
   "metadata": {},
   "source": [
    "# Location_country "
   ]
  },
  {
   "cell_type": "code",
   "execution_count": 70,
   "id": "e7d0673d",
   "metadata": {},
   "outputs": [],
   "source": [
    "# country location has been extracted from location column and entered as location_country\n",
    "df[\"location_country\"] = df.location.apply(lambda x: x.split(\",\")[-1].strip() if isinstance(x, str) else x)"
   ]
  },
  {
   "cell_type": "code",
   "execution_count": 71,
   "id": "b4cf49ed",
   "metadata": {},
   "outputs": [
    {
     "data": {
      "text/plain": [
       "array(['Spain', 'Germany', nan, 'Belgium', 'Austria', 'France',\n",
       "       'Netherlands', 'Italy', 'European Union', 'Luxembourg', 'Slovenia',\n",
       "       'Poland', 'Hungary', 'Japan', 'Switzerland', 'Romania', 'Denmark',\n",
       "       'Czechia', 'Slovakia', 'Croatia', 'Bulgaria', 'United States',\n",
       "       'Sweden', 'Malta', 'Canada', 'Mexico'], dtype=object)"
      ]
     },
     "execution_count": 71,
     "metadata": {},
     "output_type": "execute_result"
    }
   ],
   "source": [
    "df.country_version.unique()"
   ]
  },
  {
   "cell_type": "code",
   "execution_count": 72,
   "id": "2f20af92",
   "metadata": {},
   "outputs": [
    {
     "data": {
      "text/plain": [
       "12591"
      ]
     },
     "execution_count": 72,
     "metadata": {},
     "output_type": "execute_result"
    }
   ],
   "source": [
    "df.country_version.isnull().sum()"
   ]
  },
  {
   "cell_type": "code",
   "execution_count": 73,
   "id": "f07af242",
   "metadata": {},
   "outputs": [
    {
     "data": {
      "text/plain": [
       "array(['ES', 'DE', 'BE', 'AT', 'NL', 'FR', 'IT', nan, 'LU', 'DK', 'EE',\n",
       "       'BG'], dtype=object)"
      ]
     },
     "execution_count": 73,
     "metadata": {},
     "output_type": "execute_result"
    }
   ],
   "source": [
    "df0.location.apply(lambda x: x.split(\",\")[-1].strip() if isinstance(x, str) else x).unique()"
   ]
  },
  {
   "cell_type": "code",
   "execution_count": 74,
   "id": "feebab4f",
   "metadata": {},
   "outputs": [
    {
     "data": {
      "text/plain": [
       "DE     12643\n",
       "ES      6517\n",
       "NL      2929\n",
       "IT      2497\n",
       "BE      1873\n",
       "FR      1473\n",
       "NaN      850\n",
       "AT       660\n",
       "LU        35\n",
       "DK         1\n",
       "EE         1\n",
       "BG         1\n",
       "Name: location_country, dtype: int64"
      ]
     },
     "execution_count": 74,
     "metadata": {},
     "output_type": "execute_result"
    }
   ],
   "source": [
    "df.location_country.value_counts(dropna = False)"
   ]
  },
  {
   "cell_type": "code",
   "execution_count": 75,
   "id": "f79ce21d",
   "metadata": {},
   "outputs": [],
   "source": [
    "country_codes = {\n",
    "    'ES': 'Spain',\n",
    "    'DE': 'Germany',\n",
    "    'BE': 'Belgium',\n",
    "    'AT': 'Austria',\n",
    "    'NL': 'Netherlands',\n",
    "    'FR': 'France',\n",
    "    'IT': 'Italy',\n",
    "    'LU': 'Luxembourg',\n",
    "    'DK': 'Denmark',\n",
    "    'EE': 'Estonia',\n",
    "    'BG': 'Bulgaria'\n",
    "}\n"
   ]
  },
  {
   "cell_type": "code",
   "execution_count": 76,
   "id": "fa6ee590",
   "metadata": {},
   "outputs": [
    {
     "data": {
      "text/plain": [
       "dict_items([('ES', 'Spain'), ('DE', 'Germany'), ('BE', 'Belgium'), ('AT', 'Austria'), ('NL', 'Netherlands'), ('FR', 'France'), ('IT', 'Italy'), ('LU', 'Luxembourg'), ('DK', 'Denmark'), ('EE', 'Estonia'), ('BG', 'Bulgaria')])"
      ]
     },
     "execution_count": 76,
     "metadata": {},
     "output_type": "execute_result"
    }
   ],
   "source": [
    "country_codes.items()"
   ]
  },
  {
   "cell_type": "code",
   "execution_count": 77,
   "id": "27ab0c5a",
   "metadata": {},
   "outputs": [],
   "source": [
    "for key, value in country_codes.items():\n",
    "    df['location_country'] = df['location_country'].replace(key, value)"
   ]
  },
  {
   "cell_type": "code",
   "execution_count": 78,
   "id": "2958fe43",
   "metadata": {},
   "outputs": [
    {
     "data": {
      "text/plain": [
       "0              Spain\n",
       "1              Spain\n",
       "2              Spain\n",
       "3              Spain\n",
       "4              Spain\n",
       "            ...     \n",
       "29475    Netherlands\n",
       "29476        Belgium\n",
       "29477    Netherlands\n",
       "29478    Netherlands\n",
       "29479            NaN\n",
       "Name: location_country, Length: 29480, dtype: object"
      ]
     },
     "execution_count": 78,
     "metadata": {},
     "output_type": "execute_result"
    }
   ],
   "source": [
    "df.location_country"
   ]
  },
  {
   "cell_type": "code",
   "execution_count": 79,
   "id": "a3f54d14",
   "metadata": {},
   "outputs": [
    {
     "data": {
      "text/plain": [
       "0        False\n",
       "1        False\n",
       "2        False\n",
       "3        False\n",
       "4        False\n",
       "         ...  \n",
       "29475    False\n",
       "29476    False\n",
       "29477    False\n",
       "29478    False\n",
       "29479    False\n",
       "Name: power_consumption_wltp, Length: 29480, dtype: bool"
      ]
     },
     "execution_count": 79,
     "metadata": {},
     "output_type": "execute_result"
    }
   ],
   "source": [
    "#power consumption kwh/100km\n",
    "df.power_consumption_wltp = df.power_consumption_wltp.str.extract(r'(\\d+)', expand=False).astype(float)\n",
    "df.power_consumption_wltp.notnull()"
   ]
  },
  {
   "cell_type": "code",
   "execution_count": 80,
   "id": "9a120ac1",
   "metadata": {},
   "outputs": [],
   "source": [
    "# electric range km\n",
    "df.electric_range_wltp = df.electric_range_wltp.str.extract(r'(\\d+)', expand=False).astype(float)"
   ]
  },
  {
   "cell_type": "markdown",
   "id": "33ecd39f",
   "metadata": {},
   "source": [
    "# Description"
   ]
  },
  {
   "cell_type": "code",
   "execution_count": 81,
   "id": "09dcf820",
   "metadata": {},
   "outputs": [
    {
     "data": {
      "text/plain": [
       "18533    Bijzonderheden:Deze Originele Nlauto Heeft De ...\n",
       "27479    Max. Trekgewicht: 1.300 Kg (Ongeremd 650 Kg)En...\n",
       "11122    Precio Al Contado: 13800 Euros Ref.  8941Jdp  ...\n",
       "7979     Verkaufe Peugeot Cabriomotor Und Getriebe Topp...\n",
       "18786    Precio Al Contado: 13499 Euros Toyota Avensis ...\n",
       "Name: desc, dtype: object"
      ]
     },
     "execution_count": 81,
     "metadata": {},
     "output_type": "execute_result"
    }
   ],
   "source": [
    "df.desc = df.desc.apply(lambda x: \"\".join(x).strip() if type(x) == list else x).str.title()\n",
    "df.desc.sample(5)"
   ]
  },
  {
   "cell_type": "markdown",
   "id": "0e210a20",
   "metadata": {},
   "source": [
    "# Extras "
   ]
  },
  {
   "cell_type": "code",
   "execution_count": 82,
   "id": "4e4ac99d",
   "metadata": {},
   "outputs": [],
   "source": [
    "# changed to title case and astype as category\n",
    "df.extras = df.extras.apply(lambda x: x[0] if isinstance(x, list) else x).str.title().astype(\"category\")"
   ]
  },
  {
   "cell_type": "code",
   "execution_count": 83,
   "id": "b08a0d28",
   "metadata": {
    "scrolled": false
   },
   "outputs": [],
   "source": [
    "ext_list = list(df[\"extras\"].dropna().unique())"
   ]
  },
  {
   "cell_type": "code",
   "execution_count": 84,
   "id": "25b34d30",
   "metadata": {},
   "outputs": [
    {
     "data": {
      "text/plain": [
       "{'Sport Seats': 4013,\n",
       " 'Alloy Wheels (17\")': 1027,\n",
       " 'Catalytic Converter': 1576,\n",
       " 'Emergency Tyre Repair Kit': 3328,\n",
       " 'Headlight Washer System': 1993,\n",
       " \"Smoker'S Package\": 518,\n",
       " 'Sport Package': 2521,\n",
       " 'Alloy Wheels': 4365,\n",
       " 'Spoiler': 1388,\n",
       " 'Sport Suspension': 2510,\n",
       " 'Automatically Dimming Interior Mirror': 5140,\n",
       " 'Voice Control': 4770,\n",
       " 'Cargo Barrier': 2061,\n",
       " 'Emergency Tyre': 1148,\n",
       " 'Summer Tyres': 3746,\n",
       " 'Winter Package': 2492,\n",
       " 'Alloy Wheels (19\")': 681,\n",
       " 'Ski Bag': 564,\n",
       " 'Winter Tyres': 957,\n",
       " 'Electronic Parking Brake': 2032,\n",
       " 'Shift Paddles': 2455,\n",
       " 'Touch Screen': 5068,\n",
       " 'Sliding Door': 60,\n",
       " 'Alloy Wheels (18\")': 933,\n",
       " 'Ambient Lighting': 2840,\n",
       " 'Alloy Wheels (16\")': 683,\n",
       " 'E10-Enabled': 2271,\n",
       " 'Spare Tyre': 1226,\n",
       " 'Alloy Wheels (21\")': 59,\n",
       " 'Trailer Hitch': 1621,\n",
       " 'Alloy Wheels (20\")': 243,\n",
       " 'Steel Wheels': 686,\n",
       " 'Biodiesel Conversion': 8,\n",
       " 'Handicapped Enabled': 26,\n",
       " 'Tuned Car': 235,\n",
       " 'Range Extender': 42,\n",
       " 'All Season Tyres': 991,\n",
       " 'Alloy Wheels (14\")': 37,\n",
       " 'Alloy Wheels (15\")': 214,\n",
       " 'Roof Rack': 2989,\n",
       " 'Alloy Wheels (22\")': 10,\n",
       " 'Alloy Wheels (23\")': 1,\n",
       " 'Alloy Wheels (13\")': 6,\n",
       " 'Right Hand Drive': 28,\n",
       " 'Awning': 55,\n",
       " 'Alloy Wheels (26\")': 1,\n",
       " 'Alloy Wheels (10\")': 1}"
      ]
     },
     "execution_count": 84,
     "metadata": {},
     "output_type": "execute_result"
    }
   ],
   "source": [
    "result = {}\n",
    "for item in ext_list:\n",
    "    parts = item.split(', ')\n",
    "    for part in parts:\n",
    "        part = part.strip()\n",
    "        if part in result:\n",
    "            result[part] += 1\n",
    "        else:\n",
    "            result[part] = 1\n",
    "result"
   ]
  },
  {
   "cell_type": "code",
   "execution_count": 85,
   "id": "935eca29",
   "metadata": {},
   "outputs": [],
   "source": [
    "categories_2 = {\n",
    "    'spor_ext': ['Sport Seats', \n",
    "                 'Sport Package', \n",
    "                 'Sport Suspension',\n",
    "                 'Shift Paddles', \n",
    "                 'Tuned Car'], # sport features\n",
    "    \n",
    "    'wheel_ext': ['Alloy Wheels \\(17\"\\)',\n",
    "                  'Alloy Wheels \\(19\"\\)', \n",
    "                  'Alloy Wheels \\(18\"\\)', \n",
    "                  'Alloy Wheels \\(16\"\\)', \n",
    "                  'Alloy Wheels \\(21\"\\)', \n",
    "                  'Alloy Wheels \\(20\"\\)', \n",
    "                  'Alloy Wheels \\(22\"\\)', \n",
    "                  'Alloy Wheels \\(23\"\\)',\n",
    "                  'Alloy Wheels \\(13\"\\)',\n",
    "                  'Alloy Wheels \\(26\"\\)', \n",
    "                  'Alloy Wheels \\(10\"\\)', \n",
    "                  'Alloy Wheels \\(14\"\\)',\n",
    "                  'Alloy Wheels \\(15\"\\)',                  \n",
    "                  'Steel Wheels',\n",
    "                  'Alloy Wheels',\n",
    "                  \n",
    "                  ], # wheels #'Alloy Wheels' \n",
    "                \n",
    "    \n",
    "    'access_ext': ['Headlight Washer System', \n",
    "                   \"Smoker'S Package\", \n",
    "                   'Automatically Dimming Interior Mirror',\n",
    "                   'Voice Control', \n",
    "                   'Cargo Barrier', \n",
    "                   'Ski Bag', \n",
    "                   'Electronic Parking Brake', \n",
    "                   'Touch Screen',\n",
    "                   'Ambient Lighting', \n",
    "                   'Roof Rack', \n",
    "                   'Trailer Hitch',\n",
    "                   'Spoiler',\n",
    "                   'Handicapped Enabled',\n",
    "                   'Awning'], # extra accessories\n",
    "    \n",
    "    'tires_ext': ['Emergency Tyre Repair Kit', \n",
    "                  'Summer Tyres', \n",
    "                  'Winter Package', \n",
    "                  'Winter Tyres', \n",
    "                  'Emergency Tyre',\n",
    "                  'All Season Tyres',\n",
    "                  'Spare Tyre'\n",
    "                 ], # tires\n",
    "    \n",
    "    'other_ext': ['Catalytic Converter',\n",
    "                  'Sliding Door',\n",
    "                  'E10-Enabled',\n",
    "                  'Biodiesel Conversion',\n",
    "                  'Range Extender',\n",
    "                  'Right Hand Drive'\n",
    "                 ] # other extras\n",
    "}"
   ]
  },
  {
   "cell_type": "code",
   "execution_count": 86,
   "id": "e16af157",
   "metadata": {},
   "outputs": [
    {
     "data": {
      "text/plain": [
       "dict_items([('spor_ext', ['Sport Seats', 'Sport Package', 'Sport Suspension', 'Shift Paddles', 'Tuned Car']), ('wheel_ext', ['Alloy Wheels \\\\(17\"\\\\)', 'Alloy Wheels \\\\(19\"\\\\)', 'Alloy Wheels \\\\(18\"\\\\)', 'Alloy Wheels \\\\(16\"\\\\)', 'Alloy Wheels \\\\(21\"\\\\)', 'Alloy Wheels \\\\(20\"\\\\)', 'Alloy Wheels \\\\(22\"\\\\)', 'Alloy Wheels \\\\(23\"\\\\)', 'Alloy Wheels \\\\(13\"\\\\)', 'Alloy Wheels \\\\(26\"\\\\)', 'Alloy Wheels \\\\(10\"\\\\)', 'Alloy Wheels \\\\(14\"\\\\)', 'Alloy Wheels \\\\(15\"\\\\)', 'Steel Wheels', 'Alloy Wheels']), ('access_ext', ['Headlight Washer System', \"Smoker'S Package\", 'Automatically Dimming Interior Mirror', 'Voice Control', 'Cargo Barrier', 'Ski Bag', 'Electronic Parking Brake', 'Touch Screen', 'Ambient Lighting', 'Roof Rack', 'Trailer Hitch', 'Spoiler', 'Handicapped Enabled', 'Awning']), ('tires_ext', ['Emergency Tyre Repair Kit', 'Summer Tyres', 'Winter Package', 'Winter Tyres', 'Emergency Tyre', 'All Season Tyres', 'Spare Tyre']), ('other_ext', ['Catalytic Converter', 'Sliding Door', 'E10-Enabled', 'Biodiesel Conversion', 'Range Extender', 'Right Hand Drive'])])"
      ]
     },
     "execution_count": 86,
     "metadata": {},
     "output_type": "execute_result"
    }
   ],
   "source": [
    "categories_2.items()"
   ]
  },
  {
   "cell_type": "code",
   "execution_count": 87,
   "id": "a1f187d2",
   "metadata": {},
   "outputs": [],
   "source": [
    "for category, extra_type in categories_2.items():\n",
    "    for i in extra_type:\n",
    "        df[\"extras\"] = df[\"extras\"].str.replace(i, category, regex=True)"
   ]
  },
  {
   "cell_type": "code",
   "execution_count": 88,
   "id": "2a930a27",
   "metadata": {},
   "outputs": [
    {
     "data": {
      "text/plain": [
       "0                                                  NaN\n",
       "1                                                  NaN\n",
       "2                                                  NaN\n",
       "3                                             spor_ext\n",
       "4                                                  NaN\n",
       "                             ...                      \n",
       "29475                            wheel_ext, access_ext\n",
       "29476                wheel_ext, access_ext, access_ext\n",
       "29477                            wheel_ext, access_ext\n",
       "29478    wheel_ext, access_ext, access_ext, access_ext\n",
       "29479                                              NaN\n",
       "Name: extras, Length: 29480, dtype: object"
      ]
     },
     "execution_count": 88,
     "metadata": {},
     "output_type": "execute_result"
    }
   ],
   "source": [
    "df.extras"
   ]
  },
  {
   "cell_type": "code",
   "execution_count": 89,
   "id": "3a825980",
   "metadata": {},
   "outputs": [],
   "source": [
    "# dublicate extras is removed\n",
    "df[\"extras\"] = df[\"extras\"].apply(lambda x : \",\".join(set(x.replace(\" \",\"\").split(\",\"))) if type(x) == str else x)\n"
   ]
  },
  {
   "cell_type": "code",
   "execution_count": 90,
   "id": "e7b7afc3",
   "metadata": {},
   "outputs": [
    {
     "data": {
      "text/plain": [
       "0                         NaN\n",
       "1                         NaN\n",
       "2                         NaN\n",
       "3                    spor_ext\n",
       "4                         NaN\n",
       "                 ...         \n",
       "29475    wheel_ext,access_ext\n",
       "29476    wheel_ext,access_ext\n",
       "29477    wheel_ext,access_ext\n",
       "29478    wheel_ext,access_ext\n",
       "29479                     NaN\n",
       "Name: extras, Length: 29480, dtype: object"
      ]
     },
     "execution_count": 90,
     "metadata": {},
     "output_type": "execute_result"
    }
   ],
   "source": [
    "df.extras"
   ]
  },
  {
   "cell_type": "markdown",
   "id": "dc22a396",
   "metadata": {},
   "source": [
    "# comfort_&_convenience"
   ]
  },
  {
   "cell_type": "code",
   "execution_count": 91,
   "id": "a04a8d42",
   "metadata": {},
   "outputs": [],
   "source": [
    "df[\"comfort_&_convenience\"] = df[\"comfort_&_convenience\"].apply(lambda x: x[0] if isinstance(x, list) else x).str.title().astype(\"category\")"
   ]
  },
  {
   "cell_type": "code",
   "execution_count": 92,
   "id": "db4853ca",
   "metadata": {},
   "outputs": [],
   "source": [
    "list_comfort = list(df[\"comfort_&_convenience\"].dropna().unique())"
   ]
  },
  {
   "cell_type": "code",
   "execution_count": 93,
   "id": "5d67b743",
   "metadata": {},
   "outputs": [
    {
     "data": {
      "text/plain": [
       "{'Air Conditioning': 12077,\n",
       " 'Automatic Climate Control': 10818,\n",
       " 'Power Windows': 13114,\n",
       " 'Rain Sensor': 9683,\n",
       " 'Electrical Side Mirrors': 12606,\n",
       " 'Multi-Function Steering Wheel': 11318,\n",
       " 'Split Rear Seats': 4427,\n",
       " 'Armrest': 9567,\n",
       " 'Cruise Control': 11231,\n",
       " 'Lumbar Support': 5922,\n",
       " 'Panorama Roof': 2445,\n",
       " 'Parking Assist System Sensors Front': 6470,\n",
       " 'Parking Assist System Sensors Rear': 10543,\n",
       " 'Sunroof': 2433,\n",
       " 'Tinted Windows': 5114,\n",
       " 'Navigation System': 9116,\n",
       " 'Parking Assist System Self-Steering': 2491,\n",
       " 'Seat Heating': 8815,\n",
       " 'Leather Steering Wheel': 11091,\n",
       " 'Light Sensor': 9364,\n",
       " 'Start-Stop System': 8108,\n",
       " 'Parking Assist System Camera': 6495,\n",
       " 'Hill Holder': 7685,\n",
       " 'Electrically Heated Windshield': 2274,\n",
       " 'Heads-Up Display': 1011,\n",
       " 'Keyless Central Door Lock': 4846,\n",
       " '2 Zones': 3323,\n",
       " 'Auxiliary Heating': 940,\n",
       " 'Electric Tailgate': 2501,\n",
       " 'Electrically Adjustable Seats': 3808,\n",
       " '360° Camera': 971,\n",
       " 'Air Suspension': 522,\n",
       " 'Seat Ventilation': 978,\n",
       " 'Massage Seats': 453,\n",
       " 'Park Distance Control': 39,\n",
       " '3 Zones': 290,\n",
       " 'Fold Flat Passenger Seat': 654,\n",
       " 'Wind Deflector': 444,\n",
       " 'Electric Backseat Adjustment': 281,\n",
       " 'Heated Steering Wheel': 2972,\n",
       " '4 Zones': 131,\n",
       " 'Sliding Door Right': 118,\n",
       " 'Sliding Door Left': 80,\n",
       " 'Leather Seats': 6}"
      ]
     },
     "execution_count": 93,
     "metadata": {},
     "output_type": "execute_result"
    }
   ],
   "source": [
    "result = {}\n",
    "for item in list_comfort:\n",
    "    parts = item.split(', ')\n",
    "    for part in parts:\n",
    "        part = part.strip()\n",
    "        if part in result:\n",
    "            result[part] += 1\n",
    "        else:\n",
    "            result[part] = 1\n",
    "result"
   ]
  },
  {
   "cell_type": "code",
   "execution_count": 94,
   "id": "dc53d2a7",
   "metadata": {},
   "outputs": [],
   "source": [
    "comfort_key = {\n",
    "    \n",
    "\"climate\" : [\"Air Conditioning\", \n",
    "                   \"Automatic Climate Control\",\n",
    "                   \"2 Zones\",\n",
    "                   \"3 Zones\",\n",
    "                   \"4 Zones\"\n",
    "                   ],\n",
    "    \n",
    "\"win_roof\" : [\"Power Windows\", \n",
    "             \"Tinted Windows\", \n",
    "             \"Panorama Roof\", \n",
    "             \"Sunroof\"],\n",
    "    \n",
    "\"mir_body\" : [\"Electrical Side Mirrors\",\n",
    "              \"Electric Tailgate\",\n",
    "              \"ElectricTailgate\"\n",
    "              ],\n",
    "\n",
    "\"steer_cont\" : [\"Multi-Function Steering Wheel\",\n",
    "                \"Cruise Control\",\n",
    "                \"Start-Stop System\",\n",
    "                \"Leather Steering Wheel\",\n",
    "                \"Heated Steering Wheel\",\n",
    "                      ],\n",
    "    \n",
    "\"comfort\" : [\"Split Rear Seats\",\n",
    "             \"Leather Seats\",\n",
    "             \"Armrest\",\n",
    "             \"Lumbar Support\",\n",
    "             \"Seat Heating\",\n",
    "             \"Seat Ventilation\",\n",
    "             \"Massage Seats\",\n",
    "             \"Fold Flat Passenger Seat\",\n",
    "             \"Electric Backseat Adjustment\",\n",
    "             \"Electrically Adjustable Seats\",\n",
    "            ],\n",
    "    \n",
    "\"park_assist\" : [\"Parking Assist System Sensors Front\",\n",
    "                 \"Parking Assist System Sensors Rear\",\n",
    "                 \"Parking Assist System Self-Steering\",\n",
    "                 \"Parking Assist System Camera\",\n",
    "                 \"Park Distance Control\",\n",
    "                 \"360° Camera\",\n",
    "                 ],\n",
    "    \n",
    "\"safety_assist\" : [\"Rain Sensor\",\n",
    "                    \"Light Sensor\",\n",
    "                    \"Hill Holder\", \n",
    "                    \"Electrically Heated Windshield\", \n",
    "                    \"Heads-Up Display\"],\n",
    "    \n",
    "\"other\" : [\"Keyless Central Door Lock\",\n",
    "           \"Auxiliary Heating\",\n",
    "           \"Navigation System\",\n",
    "           \"Wind Deflector\",\n",
    "           \"Sliding Door Right\",\n",
    "           \"Sliding Door Left\",\n",
    "           \"Air Suspension\"\n",
    "           ]\n",
    "    \n",
    "}"
   ]
  },
  {
   "cell_type": "code",
   "execution_count": 95,
   "id": "cc838357",
   "metadata": {},
   "outputs": [
    {
     "data": {
      "text/plain": [
       "dict_items([('climate', ['Air Conditioning', 'Automatic Climate Control', '2 Zones', '3 Zones', '4 Zones']), ('win_roof', ['Power Windows', 'Tinted Windows', 'Panorama Roof', 'Sunroof']), ('mir_body', ['Electrical Side Mirrors', 'Electric Tailgate', 'ElectricTailgate']), ('steer_cont', ['Multi-Function Steering Wheel', 'Cruise Control', 'Start-Stop System', 'Leather Steering Wheel', 'Heated Steering Wheel']), ('comfort', ['Split Rear Seats', 'Leather Seats', 'Armrest', 'Lumbar Support', 'Seat Heating', 'Seat Ventilation', 'Massage Seats', 'Fold Flat Passenger Seat', 'Electric Backseat Adjustment', 'Electrically Adjustable Seats']), ('park_assist', ['Parking Assist System Sensors Front', 'Parking Assist System Sensors Rear', 'Parking Assist System Self-Steering', 'Parking Assist System Camera', 'Park Distance Control', '360° Camera']), ('safety_assist', ['Rain Sensor', 'Light Sensor', 'Hill Holder', 'Electrically Heated Windshield', 'Heads-Up Display']), ('other', ['Keyless Central Door Lock', 'Auxiliary Heating', 'Navigation System', 'Wind Deflector', 'Sliding Door Right', 'Sliding Door Left', 'Air Suspension'])])"
      ]
     },
     "execution_count": 95,
     "metadata": {},
     "output_type": "execute_result"
    }
   ],
   "source": [
    "comfort_key.items()"
   ]
  },
  {
   "cell_type": "code",
   "execution_count": 96,
   "id": "68f7df22",
   "metadata": {},
   "outputs": [],
   "source": [
    "for classes, attributes in comfort_key.items():\n",
    "    for i in attributes:\n",
    "        df[\"comfort_&_convenience\"] = df[\"comfort_&_convenience\"].str.replace(i, classes, regex = True)"
   ]
  },
  {
   "cell_type": "code",
   "execution_count": 97,
   "id": "748ef82c",
   "metadata": {},
   "outputs": [
    {
     "data": {
      "text/plain": [
       "0                                                      NaN\n",
       "1                                                      NaN\n",
       "2                                                      NaN\n",
       "3                climate, climate, win_roof, safety_assist\n",
       "4         climate, mir_body, steer_cont, win_roof, comfort\n",
       "                               ...                        \n",
       "29475    climate, comfort, climate, steer_cont, mir_bod...\n",
       "29476    climate, comfort, climate, steer_cont, mir_bod...\n",
       "29477    climate, comfort, climate, steer_cont, mir_bod...\n",
       "29478    climate, comfort, steer_cont, mir_body, steer_...\n",
       "29479                                                  NaN\n",
       "Name: comfort_&_convenience, Length: 29480, dtype: object"
      ]
     },
     "execution_count": 97,
     "metadata": {},
     "output_type": "execute_result"
    }
   ],
   "source": [
    "df[\"comfort_&_convenience\"]"
   ]
  },
  {
   "cell_type": "code",
   "execution_count": 98,
   "id": "a9a2d3c7",
   "metadata": {},
   "outputs": [],
   "source": [
    "# remove dublicates"
   ]
  },
  {
   "cell_type": "code",
   "execution_count": 99,
   "id": "01e03ab6",
   "metadata": {},
   "outputs": [],
   "source": [
    "df[\"comfort_&_convenience\"] = df[\"comfort_&_convenience\"].apply(lambda x: \",\".join(set(x.replace(\" \", \"\").split(\",\"))) if type(x) == str else x)"
   ]
  },
  {
   "cell_type": "code",
   "execution_count": 100,
   "id": "023c5184",
   "metadata": {},
   "outputs": [
    {
     "data": {
      "text/plain": [
       "0                                                      NaN\n",
       "1                                                      NaN\n",
       "2                                                      NaN\n",
       "3                           climate,win_roof,safety_assist\n",
       "4             climate,mir_body,steer_cont,win_roof,comfort\n",
       "                               ...                        \n",
       "29475    climate,mir_body,park_assist,steer_cont,win_ro...\n",
       "29476    climate,mir_body,park_assist,steer_cont,win_ro...\n",
       "29477    climate,other,mir_body,steer_cont,park_assist,...\n",
       "29478    climate,other,mir_body,steer_cont,win_roof,com...\n",
       "29479                                                  NaN\n",
       "Name: comfort_&_convenience, Length: 29480, dtype: object"
      ]
     },
     "execution_count": 100,
     "metadata": {},
     "output_type": "execute_result"
    }
   ],
   "source": [
    "df[\"comfort_&_convenience\"]"
   ]
  },
  {
   "cell_type": "markdown",
   "id": "2f1c48da",
   "metadata": {},
   "source": [
    "# Entertainment_&_Media"
   ]
  },
  {
   "cell_type": "code",
   "execution_count": 101,
   "id": "04c87b63",
   "metadata": {},
   "outputs": [],
   "source": [
    "df[\"entertainment_&_media\"] = df[\"entertainment_&_media\"].apply(lambda x: x[0] if isinstance(x, list) else x).str.title()"
   ]
  },
  {
   "cell_type": "code",
   "execution_count": 102,
   "id": "c61725b3",
   "metadata": {},
   "outputs": [],
   "source": [
    "# entertainment_&_media\n",
    "ent_media = {\n",
    "    'connect': [ # 'Digitalconnectivity',\n",
    "                      'Usb',\n",
    "                      'Bluetooth',\n",
    "                      'Cd Player',\n",
    "                      'Mp3',\n",
    "                      'On-Board Computer',                      \n",
    "                      'Digital Cockpit',\n",
    "                      'Hands-Free Equipment',\n",
    "                      'Digital Radio',                      \n",
    "                      'Induction Charging For Smartphones',\n",
    "                      'Integrated Music Streaming',\n",
    "                      'Wlan / Wifi Hotspot',\n",
    "                      'Radio'\n",
    "                     # 'Digital'\n",
    "    ],\n",
    "    \n",
    "    'entertainment': [\n",
    "                      'Television'\n",
    "    ],\n",
    "    \n",
    "    'phone_connection': [\n",
    "                      'Android Auto',\n",
    "                      'Apple Carplay'\n",
    "    ],\n",
    "    \n",
    "    'sound_system': [\n",
    "                      'Sound System'\n",
    "    ]\n",
    "}"
   ]
  },
  {
   "cell_type": "code",
   "execution_count": 103,
   "id": "3ef3d7b0",
   "metadata": {},
   "outputs": [],
   "source": [
    "for keys, values in ent_media.items():\n",
    "    for x in values:\n",
    "        df[\"entertainment_&_media\"] = df[\"entertainment_&_media\"].str.replace(x, keys, regex = True)"
   ]
  },
  {
   "cell_type": "code",
   "execution_count": 104,
   "id": "6cd335a2",
   "metadata": {
    "scrolled": true
   },
   "outputs": [
    {
     "data": {
      "text/plain": [
       "0                                                      NaN\n",
       "1                                                      NaN\n",
       "2                                                      NaN\n",
       "3                                                  connect\n",
       "4                       connect, connect, connect, connect\n",
       "                               ...                        \n",
       "29475                                     connect, connect\n",
       "29476    connect, connect, connect, connect, connect, c...\n",
       "29477    phone_connection, phone_connection, connect, c...\n",
       "29478                                              connect\n",
       "29479                                                  NaN\n",
       "Name: entertainment_&_media, Length: 29480, dtype: object"
      ]
     },
     "execution_count": 104,
     "metadata": {},
     "output_type": "execute_result"
    }
   ],
   "source": [
    "df[\"entertainment_&_media\"]"
   ]
  },
  {
   "cell_type": "code",
   "execution_count": 105,
   "id": "3d3f7ccc",
   "metadata": {},
   "outputs": [],
   "source": [
    "df[\"entertainment_&_media\"] = df[\"entertainment_&_media\"].apply(lambda x: \",\".join(set(x.replace(\" \", \"\").split(\",\"))) if type(x) == str else x)"
   ]
  },
  {
   "cell_type": "code",
   "execution_count": 106,
   "id": "ed74c9a2",
   "metadata": {},
   "outputs": [
    {
     "data": {
      "text/plain": [
       "0                             NaN\n",
       "1                             NaN\n",
       "2                             NaN\n",
       "3                         connect\n",
       "4                         connect\n",
       "                   ...           \n",
       "29475                     connect\n",
       "29476                     connect\n",
       "29477    connect,phone_connection\n",
       "29478                     connect\n",
       "29479                         NaN\n",
       "Name: entertainment_&_media, Length: 29480, dtype: object"
      ]
     },
     "execution_count": 106,
     "metadata": {},
     "output_type": "execute_result"
    }
   ],
   "source": [
    "df[\"entertainment_&_media\"]"
   ]
  },
  {
   "cell_type": "markdown",
   "id": "517bb14c",
   "metadata": {},
   "source": [
    "# safety _&_security"
   ]
  },
  {
   "cell_type": "code",
   "execution_count": 107,
   "id": "213595d2",
   "metadata": {},
   "outputs": [],
   "source": [
    "df[\"safety_&_security\"] = df[\"safety_&_security\"].apply(lambda x: x[0] if isinstance(x, list) else x).str.title()"
   ]
  },
  {
   "cell_type": "code",
   "execution_count": 108,
   "id": "58dfeb9e",
   "metadata": {},
   "outputs": [],
   "source": [
    "# safety_&_security\n",
    "safety_security = {\n",
    "    'safety_drive': [     'Abs', \n",
    "                        'Driver-Side Airbag',\n",
    "                        'Electronic Stability Control',\n",
    "                        'Traction Control', \n",
    "                        'Isofix', \n",
    "                        'Head Airbag', \n",
    "                        'Immobilizer', \n",
    "                        'Passenger-Side Airbag', \n",
    "                        'Side Airbag', \n",
    "                        'Emergency Brake Assistant', \n",
    "                        'Lane Departure Warning System', \n",
    "                        'Distance Warning System', \n",
    "                        'Driver Drowsiness Detection', \n",
    "                        'Rear Airbag', 'Tire Pressure Monitoring System'], # Drive Safety Features\n",
    "    \n",
    "    'lighting_fea': [   'Bi-Xenon Headlights',                                                 \n",
    "                        'Fog Lights', \n",
    "                        'Led Daytime Running Lights', \n",
    "                        'Full-Led Headlights',                                               \n",
    "                        'Adaptive Headlights', \n",
    "                        'Led Headlights',  \n",
    "                        'Daytime Running Lights',\n",
    "                        'Xenon Headlights',\n",
    "                        'Laser Headlights'], # Lighting Features\n",
    "    \n",
    "    'security_fea': [       'Central Door Lock With Remote Control',\n",
    "                        'Central Door Lock', \n",
    "                        'Power Steering',  \n",
    "                        'Alarm System', \n",
    "                        ], # Security Features\n",
    "    \n",
    "    'comfort_drive': [  'Speed Limit Control System', \n",
    "                        'Traffic Sign Recognition', \n",
    "                        'Adaptive Cruise Control', \n",
    "                        'Blind Spot Monitor'], # Driver Assistance Features\n",
    "    \n",
    "    'other_fea': [      'Emergency System', \n",
    "                        'High Beam Assist', \n",
    "                        'Glare-Free High Beam Headlights', \n",
    "                        'Night View Assist'] # Other Features\n",
    "}"
   ]
  },
  {
   "cell_type": "code",
   "execution_count": 109,
   "id": "c2a5dc87",
   "metadata": {},
   "outputs": [],
   "source": [
    "for keys, items in safety_security.items():\n",
    "    for i in items:\n",
    "        df[\"safety_&_security\"] = df[\"safety_&_security\"].str.replace(i, keys, regex = True)"
   ]
  },
  {
   "cell_type": "code",
   "execution_count": 110,
   "id": "3ae36b67",
   "metadata": {},
   "outputs": [],
   "source": [
    "df[\"safety_&_security\"] = df[\"safety_&_security\"].apply(lambda x: \",\".join(set(x.replace(\" \", \"\").split(\",\"))) if type(x) == str else x)"
   ]
  },
  {
   "cell_type": "code",
   "execution_count": 111,
   "id": "63f422b9",
   "metadata": {},
   "outputs": [
    {
     "data": {
      "text/plain": [
       "0                                                      NaN\n",
       "1                                                      NaN\n",
       "2                                                      NaN\n",
       "3                                safety_drive,security_fea\n",
       "4                   safety_drive,lighting_fea,security_fea\n",
       "                               ...                        \n",
       "29475               safety_drive,lighting_fea,security_fea\n",
       "29476               safety_drive,lighting_fea,security_fea\n",
       "29477    safety_drive,lighting_fea,comfort_drive,other_fea\n",
       "29478               safety_drive,lighting_fea,security_fea\n",
       "29479                                                  NaN\n",
       "Name: safety_&_security, Length: 29480, dtype: object"
      ]
     },
     "execution_count": 111,
     "metadata": {},
     "output_type": "execute_result"
    }
   ],
   "source": [
    "df[\"safety_&_security\"]"
   ]
  },
  {
   "cell_type": "markdown",
   "id": "fbe3881e",
   "metadata": {},
   "source": [
    "# upholstery_colour"
   ]
  },
  {
   "cell_type": "code",
   "execution_count": 112,
   "id": "f0b5e534",
   "metadata": {},
   "outputs": [],
   "source": [
    "upholstery_colour_dict = {\n",
    "    'prim_up' : [\"Black\",\n",
    "                 \"Grey\",\n",
    "                 \"White\"\n",
    "                ],\n",
    "    \n",
    "    'text_up' : ['Beige',\n",
    "                 'Brown'\n",
    "                ],\n",
    "    \n",
    "    'special_up' : ['Red',\n",
    "                    'Blue',\n",
    "                    'Orange',\n",
    "                    'Green',\n",
    "                    'Yellow',\n",
    "                    'Other']\n",
    "\n",
    "}"
   ]
  },
  {
   "cell_type": "code",
   "execution_count": 113,
   "id": "c9ef1a06",
   "metadata": {},
   "outputs": [],
   "source": [
    "for keys, items in upholstery_colour_dict.items():\n",
    "    for i in items:\n",
    "        df[\"upholstery_colour\"] = df[\"upholstery_colour\"].str.replace(i, keys, regex = True)"
   ]
  },
  {
   "cell_type": "code",
   "execution_count": 114,
   "id": "4b1ef838",
   "metadata": {},
   "outputs": [
    {
     "data": {
      "text/plain": [
       "array([nan, 'prim_up', 'special_up', 'text_up'], dtype=object)"
      ]
     },
     "execution_count": 114,
     "metadata": {},
     "output_type": "execute_result"
    }
   ],
   "source": [
    "df[\"upholstery_colour\"].unique()"
   ]
  },
  {
   "cell_type": "markdown",
   "id": "5be17fea",
   "metadata": {},
   "source": [
    "# upholstery"
   ]
  },
  {
   "cell_type": "code",
   "execution_count": 115,
   "id": "9cf07a1d",
   "metadata": {},
   "outputs": [],
   "source": [
    "upholstery_dict = {\n",
    "    'fabric_hols' : [\"Cloth\",\n",
    "                     \"Velour\",\n",
    "\n",
    "                ],\n",
    "    \n",
    "    'leather_hols' : ['Full leather',\n",
    "                      'Part leather'\n",
    "                ],\n",
    "    \n",
    "    'special_hols' : ['Other',\n",
    "                      'alcantara',\n",
    "                         ]\n",
    "\n",
    "}"
   ]
  },
  {
   "cell_type": "code",
   "execution_count": 116,
   "id": "ead2821e",
   "metadata": {},
   "outputs": [],
   "source": [
    "for keys, items in upholstery_dict.items():\n",
    "    for i in items:\n",
    "        df[\"upholstery\"] = df[\"upholstery\"].str.replace(i, keys, regex = True)"
   ]
  },
  {
   "cell_type": "code",
   "execution_count": 117,
   "id": "73192733",
   "metadata": {},
   "outputs": [
    {
     "data": {
      "text/plain": [
       "array([nan, 'fabric_hols', 'leather_hols', 'special_hols'], dtype=object)"
      ]
     },
     "execution_count": 117,
     "metadata": {},
     "output_type": "execute_result"
    }
   ],
   "source": [
    "df.upholstery.unique()"
   ]
  },
  {
   "cell_type": "markdown",
   "id": "852c0860",
   "metadata": {},
   "source": [
    "# Energy Efficiency"
   ]
  },
  {
   "cell_type": "code",
   "execution_count": 118,
   "id": "a26d2b4b",
   "metadata": {},
   "outputs": [],
   "source": [
    "efficiency_dict = {\n",
    "    'top_efficiency' : [\"A\\+\\+\\+\",\n",
    "                        \"A\\+\\+\",\n",
    "                        \"A\\+\"\n",
    "                       ],\n",
    "    \n",
    "    'mid_efficiency' : [\"A\",\n",
    "                        \"B\",\n",
    "                        \"C\"\n",
    "                       ],\n",
    "    \n",
    "    'lower_efficiency' : ['D',\n",
    "                          'E',\n",
    "                          'F',\n",
    "                          'G'\n",
    "                          ]\n",
    "}"
   ]
  },
  {
   "cell_type": "code",
   "execution_count": 119,
   "id": "0ece3e74",
   "metadata": {},
   "outputs": [],
   "source": [
    "for keys, items in efficiency_dict.items():\n",
    "    for i in items:\n",
    "        df[\"energy_efficiency_class\"] = df[\"energy_efficiency_class\"].str.replace(i, keys, regex = True)"
   ]
  },
  {
   "cell_type": "code",
   "execution_count": 120,
   "id": "d973090f",
   "metadata": {
    "scrolled": false
   },
   "outputs": [
    {
     "data": {
      "text/plain": [
       "array([nan, 'mid_efficiency', 'lower_efficiency', 'top_efficiency'],\n",
       "      dtype=object)"
      ]
     },
     "execution_count": 120,
     "metadata": {},
     "output_type": "execute_result"
    }
   ],
   "source": [
    "df.energy_efficiency_class.unique()"
   ]
  },
  {
   "cell_type": "code",
   "execution_count": null,
   "id": "aec97898",
   "metadata": {},
   "outputs": [],
   "source": []
  },
  {
   "cell_type": "code",
   "execution_count": 121,
   "id": "5cd7b6f0",
   "metadata": {},
   "outputs": [],
   "source": [
    "# user-defined function for getting columns that have missing values above 79 percent.\n",
    "def drop_columns(df):\n",
    "    missing_number = df.isnull().sum().sort_values(ascending=False)\n",
    "    missing_percent = (df.isnull().sum()/df.isnull().count()*100).sort_values(ascending=False)\n",
    "    missing_values = pd.concat([missing_number, missing_percent], axis=1, keys=['Missing_Number', 'Missing_Percent'])\n",
    "    return missing_values[missing_values['Missing_Percent']>79]"
   ]
  },
  {
   "cell_type": "code",
   "execution_count": 122,
   "id": "d5cfd406",
   "metadata": {},
   "outputs": [
    {
     "data": {
      "text/html": [
       "<div>\n",
       "<style scoped>\n",
       "    .dataframe tbody tr th:only-of-type {\n",
       "        vertical-align: middle;\n",
       "    }\n",
       "\n",
       "    .dataframe tbody tr th {\n",
       "        vertical-align: top;\n",
       "    }\n",
       "\n",
       "    .dataframe thead th {\n",
       "        text-align: right;\n",
       "    }\n",
       "</style>\n",
       "<table border=\"1\" class=\"dataframe\">\n",
       "  <thead>\n",
       "    <tr style=\"text-align: right;\">\n",
       "      <th></th>\n",
       "      <th>Missing_Number</th>\n",
       "      <th>Missing_Percent</th>\n",
       "    </tr>\n",
       "  </thead>\n",
       "  <tbody>\n",
       "    <tr>\n",
       "      <th>battery_ownership</th>\n",
       "      <td>29473</td>\n",
       "      <td>99.976255</td>\n",
       "    </tr>\n",
       "    <tr>\n",
       "      <th>power_consumption_wltp</th>\n",
       "      <td>29464</td>\n",
       "      <td>99.945726</td>\n",
       "    </tr>\n",
       "    <tr>\n",
       "      <th>electric_range_wltp</th>\n",
       "      <td>29464</td>\n",
       "      <td>99.945726</td>\n",
       "    </tr>\n",
       "    <tr>\n",
       "      <th>fuel_consumption_wltp</th>\n",
       "      <td>29380</td>\n",
       "      <td>99.660787</td>\n",
       "    </tr>\n",
       "    <tr>\n",
       "      <th>co_emissions_wltp</th>\n",
       "      <td>29364</td>\n",
       "      <td>99.606513</td>\n",
       "    </tr>\n",
       "    <tr>\n",
       "      <th>availability</th>\n",
       "      <td>29179</td>\n",
       "      <td>98.978969</td>\n",
       "    </tr>\n",
       "    <tr>\n",
       "      <th>available_from</th>\n",
       "      <td>29087</td>\n",
       "      <td>98.666893</td>\n",
       "    </tr>\n",
       "    <tr>\n",
       "      <th>taxi_or_rental_car</th>\n",
       "      <td>29058</td>\n",
       "      <td>98.568521</td>\n",
       "    </tr>\n",
       "    <tr>\n",
       "      <th>power_consumption</th>\n",
       "      <td>28965</td>\n",
       "      <td>98.253053</td>\n",
       "    </tr>\n",
       "    <tr>\n",
       "      <th>last_timing_belt_change</th>\n",
       "      <td>28908</td>\n",
       "      <td>98.059701</td>\n",
       "    </tr>\n",
       "    <tr>\n",
       "      <th>last_service</th>\n",
       "      <td>27477</td>\n",
       "      <td>93.205563</td>\n",
       "    </tr>\n",
       "    <tr>\n",
       "      <th>other_fuel_types</th>\n",
       "      <td>27167</td>\n",
       "      <td>92.154003</td>\n",
       "    </tr>\n",
       "    <tr>\n",
       "      <th>production_date</th>\n",
       "      <td>23572</td>\n",
       "      <td>79.959294</td>\n",
       "    </tr>\n",
       "  </tbody>\n",
       "</table>\n",
       "</div>"
      ],
      "text/plain": [
       "                         Missing_Number  Missing_Percent\n",
       "battery_ownership                 29473        99.976255\n",
       "power_consumption_wltp            29464        99.945726\n",
       "electric_range_wltp               29464        99.945726\n",
       "fuel_consumption_wltp             29380        99.660787\n",
       "co_emissions_wltp                 29364        99.606513\n",
       "availability                      29179        98.978969\n",
       "available_from                    29087        98.666893\n",
       "taxi_or_rental_car                29058        98.568521\n",
       "power_consumption                 28965        98.253053\n",
       "last_timing_belt_change           28908        98.059701\n",
       "last_service                      27477        93.205563\n",
       "other_fuel_types                  27167        92.154003\n",
       "production_date                   23572        79.959294"
      ]
     },
     "execution_count": 122,
     "metadata": {},
     "output_type": "execute_result"
    }
   ],
   "source": [
    "drop_columns(df)"
   ]
  },
  {
   "cell_type": "code",
   "execution_count": 123,
   "id": "815d06bf",
   "metadata": {},
   "outputs": [],
   "source": [
    "drop_list = drop_columns(df)"
   ]
  },
  {
   "cell_type": "code",
   "execution_count": 124,
   "id": "9e0cd455",
   "metadata": {},
   "outputs": [],
   "source": [
    "df.drop(columns = drop_list.index, axis = 1, inplace = True)"
   ]
  },
  {
   "cell_type": "code",
   "execution_count": 125,
   "id": "aa179ed8",
   "metadata": {},
   "outputs": [
    {
     "data": {
      "text/html": [
       "<div>\n",
       "<style scoped>\n",
       "    .dataframe tbody tr th:only-of-type {\n",
       "        vertical-align: middle;\n",
       "    }\n",
       "\n",
       "    .dataframe tbody tr th {\n",
       "        vertical-align: top;\n",
       "    }\n",
       "\n",
       "    .dataframe thead th {\n",
       "        text-align: right;\n",
       "    }\n",
       "</style>\n",
       "<table border=\"1\" class=\"dataframe\">\n",
       "  <thead>\n",
       "    <tr style=\"text-align: right;\">\n",
       "      <th></th>\n",
       "      <th>Missing_Number</th>\n",
       "      <th>Missing_Percent</th>\n",
       "    </tr>\n",
       "  </thead>\n",
       "  <tbody>\n",
       "  </tbody>\n",
       "</table>\n",
       "</div>"
      ],
      "text/plain": [
       "Empty DataFrame\n",
       "Columns: [Missing_Number, Missing_Percent]\n",
       "Index: []"
      ]
     },
     "execution_count": 125,
     "metadata": {},
     "output_type": "execute_result"
    }
   ],
   "source": [
    "# columns that have missing values above 79 percent has been dropped.\n",
    "drop_columns(df)"
   ]
  },
  {
   "cell_type": "code",
   "execution_count": 126,
   "id": "99a84f10",
   "metadata": {},
   "outputs": [],
   "source": [
    "# Rows that have all-NaN values are dropped\n",
    "df.dropna( how = \"all\", axis = 0, inplace = True)"
   ]
  },
  {
   "cell_type": "code",
   "execution_count": null,
   "id": "a1285a90",
   "metadata": {},
   "outputs": [],
   "source": []
  },
  {
   "cell_type": "code",
   "execution_count": 127,
   "id": "f52fd323",
   "metadata": {},
   "outputs": [],
   "source": [
    "df.to_json(\"as24_cars_part_1.json\")"
   ]
  },
  {
   "cell_type": "code",
   "execution_count": null,
   "id": "4f0114c7",
   "metadata": {},
   "outputs": [],
   "source": []
  }
 ],
 "metadata": {
  "kernelspec": {
   "display_name": "Python 3 (ipykernel)",
   "language": "python",
   "name": "python3"
  },
  "language_info": {
   "codemirror_mode": {
    "name": "ipython",
    "version": 3
   },
   "file_extension": ".py",
   "mimetype": "text/x-python",
   "name": "python",
   "nbconvert_exporter": "python",
   "pygments_lexer": "ipython3",
   "version": "3.10.11"
  }
 },
 "nbformat": 4,
 "nbformat_minor": 5
}
